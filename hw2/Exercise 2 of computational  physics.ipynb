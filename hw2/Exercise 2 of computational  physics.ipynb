{
 "cells": [
  {
   "cell_type": "code",
   "execution_count": 1,
   "metadata": {},
   "outputs": [],
   "source": [
    "import numpy as np\n",
    "from scipy.linalg import solve\n",
    "from pandas import DataFrame\n",
    "import matplotlib.pyplot as plt"
   ]
  },
  {
   "cell_type": "markdown",
   "metadata": {},
   "source": [
    "# 1. Runge 效应\n",
    "## (a) Polynomial Interpolation with Same Intervals\n",
    "First, we construct the Neville algorithm as a function, which receives coordinates of n+1 nodes as input and return an interpolation polynomial of n-th degree. I use a simple nodes to test its correctness.\n",
    "\n",
    "Here we use a numpy class named \"poly1d\" to construct a polynomial from a list of coefficients. More information in https://docs.scipy.org/doc/numpy/reference/generated/numpy.poly1d.html."
   ]
  },
  {
   "cell_type": "code",
   "execution_count": 2,
   "metadata": {
    "scrolled": true
   },
   "outputs": [
    {
     "name": "stdout",
     "output_type": "stream",
     "text": [
      "   2\n",
      "1 x\n"
     ]
    }
   ],
   "source": [
    "def Neville(nodes):\n",
    "    n = len(nodes) - 1\n",
    "    T = [[None for j in range(n+1)] for i in range(n+1)] # T[i][j] stands for T_j,i\n",
    "    T[0] = [np.poly1d([nodes[i][1]])  for i in range(n+1)]\n",
    "    for k in range(1, n+1):\n",
    "        for j in range(k, n+1):\n",
    "            T[k][j] = ([1, -nodes[j-k][0]] * T[k-1][j] - [1, -nodes[j][0]] * T[k-1][j-1]) /\\\n",
    "            (nodes[j][0] - nodes[j-k][0])\n",
    "    return T[n][-1] # T[n][n] is the final result\n",
    "    \n",
    "print(Neville([[1,1],[2,4],[3,9],[4,16], [5,25]]))"
   ]
  },
  {
   "cell_type": "markdown",
   "metadata": {},
   "source": [
    "Construct Runge function. Compute 21 uniform nodes of it on [-1,1] and 41 points (including midpoints) equally dividing the interval."
   ]
  },
  {
   "cell_type": "code",
   "execution_count": 3,
   "metadata": {
    "scrolled": true
   },
   "outputs": [],
   "source": [
    "def Runge(x):\n",
    "    return 1 / (1 + 25 * x * x)\n",
    "\n",
    "order_of_interpolation = 20\n",
    "interval = 2 / order_of_interpolation\n",
    "\n",
    "uniform_nodes_of_Runge = [[x, Runge(x)] for x in np.arange(-1, 1+interval, interval)]\n",
    "uniform_points_of_Runge = [x for x in np.arange(-1, 1+interval/2, interval/2)]"
   ]
  },
  {
   "cell_type": "markdown",
   "metadata": {},
   "source": [
    "Calculate $f(x),\\ P_{20}(x),\\ |P_{20}(x)-f(x)|$ for each dividing points. The result is showed in the table below."
   ]
  },
  {
   "cell_type": "code",
   "execution_count": 4,
   "metadata": {
    "scrolled": false
   },
   "outputs": [
    {
     "data": {
      "text/html": [
       "<div>\n",
       "<style scoped>\n",
       "    .dataframe tbody tr th:only-of-type {\n",
       "        vertical-align: middle;\n",
       "    }\n",
       "\n",
       "    .dataframe tbody tr th {\n",
       "        vertical-align: top;\n",
       "    }\n",
       "\n",
       "    .dataframe thead th {\n",
       "        text-align: right;\n",
       "    }\n",
       "</style>\n",
       "<table border=\"1\" class=\"dataframe\">\n",
       "  <thead>\n",
       "    <tr style=\"text-align: right;\">\n",
       "      <th></th>\n",
       "      <th>x</th>\n",
       "      <th>f(x)</th>\n",
       "      <th>P20(x)</th>\n",
       "      <th>|P20(x)-f(x)|</th>\n",
       "    </tr>\n",
       "  </thead>\n",
       "  <tbody>\n",
       "    <tr>\n",
       "      <th>0</th>\n",
       "      <td>-1.00</td>\n",
       "      <td>0.038462</td>\n",
       "      <td>0.038462</td>\n",
       "      <td>2.030601e-11</td>\n",
       "    </tr>\n",
       "    <tr>\n",
       "      <th>1</th>\n",
       "      <td>-0.95</td>\n",
       "      <td>0.042440</td>\n",
       "      <td>-39.952449</td>\n",
       "      <td>3.999489e+01</td>\n",
       "    </tr>\n",
       "    <tr>\n",
       "      <th>2</th>\n",
       "      <td>-0.90</td>\n",
       "      <td>0.047059</td>\n",
       "      <td>0.047059</td>\n",
       "      <td>8.011099e-12</td>\n",
       "    </tr>\n",
       "    <tr>\n",
       "      <th>3</th>\n",
       "      <td>-0.85</td>\n",
       "      <td>0.052459</td>\n",
       "      <td>3.454958</td>\n",
       "      <td>3.402499e+00</td>\n",
       "    </tr>\n",
       "    <tr>\n",
       "      <th>4</th>\n",
       "      <td>-0.80</td>\n",
       "      <td>0.058824</td>\n",
       "      <td>0.058824</td>\n",
       "      <td>3.293685e-12</td>\n",
       "    </tr>\n",
       "    <tr>\n",
       "      <th>5</th>\n",
       "      <td>-0.75</td>\n",
       "      <td>0.066390</td>\n",
       "      <td>-0.447052</td>\n",
       "      <td>5.134420e-01</td>\n",
       "    </tr>\n",
       "    <tr>\n",
       "      <th>6</th>\n",
       "      <td>-0.70</td>\n",
       "      <td>0.075472</td>\n",
       "      <td>0.075472</td>\n",
       "      <td>6.617346e-13</td>\n",
       "    </tr>\n",
       "    <tr>\n",
       "      <th>7</th>\n",
       "      <td>-0.65</td>\n",
       "      <td>0.086486</td>\n",
       "      <td>0.202423</td>\n",
       "      <td>1.159361e-01</td>\n",
       "    </tr>\n",
       "    <tr>\n",
       "      <th>8</th>\n",
       "      <td>-0.60</td>\n",
       "      <td>0.100000</td>\n",
       "      <td>0.100000</td>\n",
       "      <td>1.325468e-13</td>\n",
       "    </tr>\n",
       "    <tr>\n",
       "      <th>9</th>\n",
       "      <td>-0.55</td>\n",
       "      <td>0.116788</td>\n",
       "      <td>0.080660</td>\n",
       "      <td>3.612833e-02</td>\n",
       "    </tr>\n",
       "    <tr>\n",
       "      <th>10</th>\n",
       "      <td>-0.50</td>\n",
       "      <td>0.137931</td>\n",
       "      <td>0.137931</td>\n",
       "      <td>5.925815e-14</td>\n",
       "    </tr>\n",
       "    <tr>\n",
       "      <th>11</th>\n",
       "      <td>-0.45</td>\n",
       "      <td>0.164948</td>\n",
       "      <td>0.179763</td>\n",
       "      <td>1.481418e-02</td>\n",
       "    </tr>\n",
       "    <tr>\n",
       "      <th>12</th>\n",
       "      <td>-0.40</td>\n",
       "      <td>0.200000</td>\n",
       "      <td>0.200000</td>\n",
       "      <td>1.637579e-15</td>\n",
       "    </tr>\n",
       "    <tr>\n",
       "      <th>13</th>\n",
       "      <td>-0.35</td>\n",
       "      <td>0.246154</td>\n",
       "      <td>0.238446</td>\n",
       "      <td>7.707912e-03</td>\n",
       "    </tr>\n",
       "    <tr>\n",
       "      <th>14</th>\n",
       "      <td>-0.30</td>\n",
       "      <td>0.307692</td>\n",
       "      <td>0.307692</td>\n",
       "      <td>2.220446e-16</td>\n",
       "    </tr>\n",
       "    <tr>\n",
       "      <th>15</th>\n",
       "      <td>-0.25</td>\n",
       "      <td>0.390244</td>\n",
       "      <td>0.395093</td>\n",
       "      <td>4.849151e-03</td>\n",
       "    </tr>\n",
       "    <tr>\n",
       "      <th>16</th>\n",
       "      <td>-0.20</td>\n",
       "      <td>0.500000</td>\n",
       "      <td>0.500000</td>\n",
       "      <td>4.440892e-16</td>\n",
       "    </tr>\n",
       "    <tr>\n",
       "      <th>17</th>\n",
       "      <td>-0.15</td>\n",
       "      <td>0.640000</td>\n",
       "      <td>0.636755</td>\n",
       "      <td>3.244664e-03</td>\n",
       "    </tr>\n",
       "    <tr>\n",
       "      <th>18</th>\n",
       "      <td>-0.10</td>\n",
       "      <td>0.800000</td>\n",
       "      <td>0.800000</td>\n",
       "      <td>1.110223e-16</td>\n",
       "    </tr>\n",
       "    <tr>\n",
       "      <th>19</th>\n",
       "      <td>-0.05</td>\n",
       "      <td>0.941176</td>\n",
       "      <td>0.942490</td>\n",
       "      <td>1.313909e-03</td>\n",
       "    </tr>\n",
       "    <tr>\n",
       "      <th>20</th>\n",
       "      <td>0.00</td>\n",
       "      <td>1.000000</td>\n",
       "      <td>1.000000</td>\n",
       "      <td>0.000000e+00</td>\n",
       "    </tr>\n",
       "    <tr>\n",
       "      <th>21</th>\n",
       "      <td>0.05</td>\n",
       "      <td>0.941176</td>\n",
       "      <td>0.942490</td>\n",
       "      <td>1.313909e-03</td>\n",
       "    </tr>\n",
       "    <tr>\n",
       "      <th>22</th>\n",
       "      <td>0.10</td>\n",
       "      <td>0.800000</td>\n",
       "      <td>0.800000</td>\n",
       "      <td>0.000000e+00</td>\n",
       "    </tr>\n",
       "    <tr>\n",
       "      <th>23</th>\n",
       "      <td>0.15</td>\n",
       "      <td>0.640000</td>\n",
       "      <td>0.636755</td>\n",
       "      <td>3.244664e-03</td>\n",
       "    </tr>\n",
       "    <tr>\n",
       "      <th>24</th>\n",
       "      <td>0.20</td>\n",
       "      <td>0.500000</td>\n",
       "      <td>0.500000</td>\n",
       "      <td>1.110223e-16</td>\n",
       "    </tr>\n",
       "    <tr>\n",
       "      <th>25</th>\n",
       "      <td>0.25</td>\n",
       "      <td>0.390244</td>\n",
       "      <td>0.395093</td>\n",
       "      <td>4.849151e-03</td>\n",
       "    </tr>\n",
       "    <tr>\n",
       "      <th>26</th>\n",
       "      <td>0.30</td>\n",
       "      <td>0.307692</td>\n",
       "      <td>0.307692</td>\n",
       "      <td>7.771561e-16</td>\n",
       "    </tr>\n",
       "    <tr>\n",
       "      <th>27</th>\n",
       "      <td>0.35</td>\n",
       "      <td>0.246154</td>\n",
       "      <td>0.238446</td>\n",
       "      <td>7.707912e-03</td>\n",
       "    </tr>\n",
       "    <tr>\n",
       "      <th>28</th>\n",
       "      <td>0.40</td>\n",
       "      <td>0.200000</td>\n",
       "      <td>0.200000</td>\n",
       "      <td>4.996004e-16</td>\n",
       "    </tr>\n",
       "    <tr>\n",
       "      <th>29</th>\n",
       "      <td>0.45</td>\n",
       "      <td>0.164948</td>\n",
       "      <td>0.179763</td>\n",
       "      <td>1.481418e-02</td>\n",
       "    </tr>\n",
       "    <tr>\n",
       "      <th>30</th>\n",
       "      <td>0.50</td>\n",
       "      <td>0.137931</td>\n",
       "      <td>0.137931</td>\n",
       "      <td>1.162959e-14</td>\n",
       "    </tr>\n",
       "    <tr>\n",
       "      <th>31</th>\n",
       "      <td>0.55</td>\n",
       "      <td>0.116788</td>\n",
       "      <td>0.080660</td>\n",
       "      <td>3.612833e-02</td>\n",
       "    </tr>\n",
       "    <tr>\n",
       "      <th>32</th>\n",
       "      <td>0.60</td>\n",
       "      <td>0.100000</td>\n",
       "      <td>0.100000</td>\n",
       "      <td>2.559758e-13</td>\n",
       "    </tr>\n",
       "    <tr>\n",
       "      <th>33</th>\n",
       "      <td>0.65</td>\n",
       "      <td>0.086486</td>\n",
       "      <td>0.202423</td>\n",
       "      <td>1.159361e-01</td>\n",
       "    </tr>\n",
       "    <tr>\n",
       "      <th>34</th>\n",
       "      <td>0.70</td>\n",
       "      <td>0.075472</td>\n",
       "      <td>0.075472</td>\n",
       "      <td>2.276693e-12</td>\n",
       "    </tr>\n",
       "    <tr>\n",
       "      <th>35</th>\n",
       "      <td>0.75</td>\n",
       "      <td>0.066390</td>\n",
       "      <td>-0.447052</td>\n",
       "      <td>5.134420e-01</td>\n",
       "    </tr>\n",
       "    <tr>\n",
       "      <th>36</th>\n",
       "      <td>0.80</td>\n",
       "      <td>0.058824</td>\n",
       "      <td>0.058824</td>\n",
       "      <td>1.651181e-11</td>\n",
       "    </tr>\n",
       "    <tr>\n",
       "      <th>37</th>\n",
       "      <td>0.85</td>\n",
       "      <td>0.052459</td>\n",
       "      <td>3.454958</td>\n",
       "      <td>3.402499e+00</td>\n",
       "    </tr>\n",
       "    <tr>\n",
       "      <th>38</th>\n",
       "      <td>0.90</td>\n",
       "      <td>0.047059</td>\n",
       "      <td>0.047059</td>\n",
       "      <td>7.119161e-11</td>\n",
       "    </tr>\n",
       "    <tr>\n",
       "      <th>39</th>\n",
       "      <td>0.95</td>\n",
       "      <td>0.042440</td>\n",
       "      <td>-39.952449</td>\n",
       "      <td>3.999489e+01</td>\n",
       "    </tr>\n",
       "    <tr>\n",
       "      <th>40</th>\n",
       "      <td>1.00</td>\n",
       "      <td>0.038462</td>\n",
       "      <td>0.038462</td>\n",
       "      <td>6.018995e-10</td>\n",
       "    </tr>\n",
       "  </tbody>\n",
       "</table>\n",
       "</div>"
      ],
      "text/plain": [
       "       x      f(x)     P20(x)  |P20(x)-f(x)|\n",
       "0  -1.00  0.038462   0.038462   2.030601e-11\n",
       "1  -0.95  0.042440 -39.952449   3.999489e+01\n",
       "2  -0.90  0.047059   0.047059   8.011099e-12\n",
       "3  -0.85  0.052459   3.454958   3.402499e+00\n",
       "4  -0.80  0.058824   0.058824   3.293685e-12\n",
       "5  -0.75  0.066390  -0.447052   5.134420e-01\n",
       "6  -0.70  0.075472   0.075472   6.617346e-13\n",
       "7  -0.65  0.086486   0.202423   1.159361e-01\n",
       "8  -0.60  0.100000   0.100000   1.325468e-13\n",
       "9  -0.55  0.116788   0.080660   3.612833e-02\n",
       "10 -0.50  0.137931   0.137931   5.925815e-14\n",
       "11 -0.45  0.164948   0.179763   1.481418e-02\n",
       "12 -0.40  0.200000   0.200000   1.637579e-15\n",
       "13 -0.35  0.246154   0.238446   7.707912e-03\n",
       "14 -0.30  0.307692   0.307692   2.220446e-16\n",
       "15 -0.25  0.390244   0.395093   4.849151e-03\n",
       "16 -0.20  0.500000   0.500000   4.440892e-16\n",
       "17 -0.15  0.640000   0.636755   3.244664e-03\n",
       "18 -0.10  0.800000   0.800000   1.110223e-16\n",
       "19 -0.05  0.941176   0.942490   1.313909e-03\n",
       "20  0.00  1.000000   1.000000   0.000000e+00\n",
       "21  0.05  0.941176   0.942490   1.313909e-03\n",
       "22  0.10  0.800000   0.800000   0.000000e+00\n",
       "23  0.15  0.640000   0.636755   3.244664e-03\n",
       "24  0.20  0.500000   0.500000   1.110223e-16\n",
       "25  0.25  0.390244   0.395093   4.849151e-03\n",
       "26  0.30  0.307692   0.307692   7.771561e-16\n",
       "27  0.35  0.246154   0.238446   7.707912e-03\n",
       "28  0.40  0.200000   0.200000   4.996004e-16\n",
       "29  0.45  0.164948   0.179763   1.481418e-02\n",
       "30  0.50  0.137931   0.137931   1.162959e-14\n",
       "31  0.55  0.116788   0.080660   3.612833e-02\n",
       "32  0.60  0.100000   0.100000   2.559758e-13\n",
       "33  0.65  0.086486   0.202423   1.159361e-01\n",
       "34  0.70  0.075472   0.075472   2.276693e-12\n",
       "35  0.75  0.066390  -0.447052   5.134420e-01\n",
       "36  0.80  0.058824   0.058824   1.651181e-11\n",
       "37  0.85  0.052459   3.454958   3.402499e+00\n",
       "38  0.90  0.047059   0.047059   7.119161e-11\n",
       "39  0.95  0.042440 -39.952449   3.999489e+01\n",
       "40  1.00  0.038462   0.038462   6.018995e-10"
      ]
     },
     "execution_count": 4,
     "metadata": {},
     "output_type": "execute_result"
    }
   ],
   "source": [
    "P20 = Neville(uniform_nodes_of_Runge)\n",
    "P20_values = P20(np.array(uniform_points_of_Runge))\n",
    "Runge_values = Runge(np.array(uniform_points_of_Runge))\n",
    "\n",
    "df = DataFrame({'x':uniform_points_of_Runge, 'P20(x)':P20_values,\n",
    "                'f(x)':Runge_values, '|P20(x)-f(x)|':abs(P20_values - Runge_values)},\n",
    "               columns=['x', 'f(x)', 'P20(x)', '|P20(x)-f(x)|'])\n",
    "df.round({'x': 2})\n"
   ]
  },
  {
   "cell_type": "markdown",
   "metadata": {},
   "source": [
    "We see $P_{20}(x)$ fits $f(x)$ near the origin, but the differences between them become enormous when x deviates from the origin. When $x=\\pm 0.95$, interpolation polynomial has a deviation of approximately 40!\n",
    "\n",
    "Draw the following diagram to illustrate the difference, which shows the values of $f(x)$ and $P_{20}(x)$ on the 41 dividing points together."
   ]
  },
  {
   "cell_type": "code",
   "execution_count": 5,
   "metadata": {
    "scrolled": false
   },
   "outputs": [
    {
     "name": "stderr",
     "output_type": "stream",
     "text": [
      "/Library/Frameworks/Python.framework/Versions/3.6/lib/python3.6/site-packages/pandas/plotting/_core.py:1716: UserWarning: Pandas doesn't allow columns to be created via a new attribute name - see https://pandas.pydata.org/pandas-docs/stable/indexing.html#attribute-access\n",
      "  series.name = label\n"
     ]
    },
    {
     "data": {
      "text/plain": [
       "<matplotlib.axes._subplots.AxesSubplot at 0x1124a9860>"
      ]
     },
     "execution_count": 5,
     "metadata": {},
     "output_type": "execute_result"
    },
    {
     "data": {
      "image/png": "[encoded data removed]",
      "text/plain": [
       "<matplotlib.figure.Figure at 0x1124a7320>"
      ]
     },
     "metadata": {},
     "output_type": "display_data"
    }
   ],
   "source": [
    "df.plot.line(x='x', y=['f(x)','P20(x)'], ylim=[0,1.5])"
   ]
  },
  {
   "cell_type": "markdown",
   "metadata": {},
   "source": [
    "And draw this diagram to show the values of $|P_{20}(x)-f(x)|$."
   ]
  },
  {
   "cell_type": "code",
   "execution_count": 6,
   "metadata": {},
   "outputs": [
    {
     "data": {
      "text/plain": [
       "<matplotlib.axes._subplots.AxesSubplot at 0x11257a6d8>"
      ]
     },
     "execution_count": 6,
     "metadata": {},
     "output_type": "execute_result"
    },
    {
     "data": {
      "image/png": "[encoded data removed]",
      "text/plain": [
       "<matplotlib.figure.Figure at 0x1125b6518>"
      ]
     },
     "metadata": {},
     "output_type": "display_data"
    }
   ],
   "source": [
    "df.plot.line(x='x', y='|P20(x)-f(x)|')"
   ]
  },
  {
   "cell_type": "markdown",
   "metadata": {},
   "source": [
    "## (b) Chebyshev Interpolation"
   ]
  },
  {
   "cell_type": "markdown",
   "metadata": {},
   "source": [
    "First, construct 20 standard Chebyshev nodes."
   ]
  },
  {
   "cell_type": "code",
   "execution_count": 7,
   "metadata": {},
   "outputs": [],
   "source": [
    "number_of_Chebyshev_nodes = 20 # N\n",
    "Chebyshev_nodes = [np.cos(np.pi * (k + 1/2) / number_of_Chebyshev_nodes) for k in range(20)]"
   ]
  },
  {
   "cell_type": "markdown",
   "metadata": {},
   "source": [
    "Then, compute the coefficient of each Chebyshev polynomial $c_m$. Given that Runge function is even, $c_m$ should be 0 when $m$ is odd. In our result, they turn out to be very small instead."
   ]
  },
  {
   "cell_type": "code",
   "execution_count": 8,
   "metadata": {},
   "outputs": [
    {
     "name": "stdout",
     "output_type": "stream",
     "text": [
      "c 0 = 0.19597752688801637\n",
      "c 1 = -1.1796119636642288e-17\n",
      "c 2 = -0.2633114580781154\n",
      "c 3 = 6.245004513516506e-18\n",
      "c 4 = 0.1767976956726966\n",
      "c 5 = -8.326672684688674e-17\n",
      "c 6 = -0.118571564574909\n",
      "c 7 = 1.4641066137244253e-16\n",
      "c 8 = 0.07931688380910713\n",
      "c 9 = 1.97758476261356e-17\n",
      "c 10 = -0.052752904452762185\n",
      "c 11 = -6.210310043996969e-17\n",
      "c 12 = 0.03462938980885903\n",
      "c 13 = -1.457167719820518e-17\n",
      "c 14 = -0.02204657753437378\n",
      "c 15 = 2.114627917215728e-16\n",
      "c 16 = 0.012991217665388414\n",
      "c 17 = -3.157196726277789e-17\n",
      "c 18 = -0.006014452622864767\n",
      "c 19 = -3.690624195140657e-17\n"
     ]
    }
   ],
   "source": [
    "coefficients_of_Chebyshev = []\n",
    "for m in range(number_of_Chebyshev_nodes):\n",
    "    coefficient = 0\n",
    "    for k in range(number_of_Chebyshev_nodes):\n",
    "        coefficient = coefficient +\\\n",
    "        np.cos(m * np.pi *(k + 1/2) / number_of_Chebyshev_nodes) *\\\n",
    "        Runge(np.cos(np.pi * (k + 1/2) / number_of_Chebyshev_nodes))\n",
    "    coefficient = coefficient * (2 - (m==0)) / number_of_Chebyshev_nodes\n",
    "    coefficients_of_Chebyshev.append(coefficient)\n",
    "    \n",
    "for i in range(len(coefficients_of_Chebyshev)):\n",
    "    print('c', i ,'=', coefficients_of_Chebyshev[i])"
   ]
  },
  {
   "cell_type": "markdown",
   "metadata": {},
   "source": [
    "Use Clenshaw's algorithm to get the expansion under Chebyshev polynomial $S(x)$. Again, odd-order entries should have cofficients of zero. But very small coefficients are given instead."
   ]
  },
  {
   "cell_type": "code",
   "execution_count": 9,
   "metadata": {},
   "outputs": [
    {
     "name": "stdout",
     "output_type": "stream",
     "text": [
      "            19         18             17        16             15\n",
      "-9.675e-12 x  - 788.3 x  + 4.389e-11 x  + 3973 x  - 7.965e-11 x \n",
      "         14             13            12             11        10\n",
      " - 8535 x  + 7.209e-11 x  + 1.02e+04 x  - 3.143e-11 x  - 7413 x \n",
      "              9        8             7         6             5\n",
      " + 3.164e-12 x + 3379 x + 2.402e-12 x - 960.8 x - 8.742e-13 x\n",
      "          4             3         2\n",
      " + 165.5 x + 1.013e-13 x - 16.54 x - 3.808e-15 x + 0.9624\n"
     ]
    }
   ],
   "source": [
    "def Clenshaw(coefficients, alpha, beta, F_0, F_1):\n",
    "    N = len(coefficients) - 1\n",
    "    b = [None] * (N+1) + [np.poly1d([0])] * 2\n",
    "    for k in range(N, 0, -1):\n",
    "        b[k] = np.poly1d([coefficients[k]]) + alpha[k] * b[k+1] + beta[k+1] * b[k+2]\n",
    "    return np.poly1d(coefficients[0]) * F_0 + b[1] * F_1 + beta[1] * F_0 * b[2]\n",
    "\n",
    "alpha_for_Chebyshev = [None] + [np.poly1d([2, 0])] * (number_of_Chebyshev_nodes + 1)\n",
    "beta_for_Chebyshev = [None] + [np.poly1d([-1])] * (number_of_Chebyshev_nodes + 1)\n",
    "Chebyshev_expansion = Clenshaw(coefficients_of_Chebyshev, alpha_for_Chebyshev,\n",
    "                               beta_for_Chebyshev, F_0=np.poly1d([1]), F_1=np.poly1d([1,0]))\n",
    "print(np.poly1d(Chebyshev_expansion))"
   ]
  },
  {
   "cell_type": "markdown",
   "metadata": {},
   "source": [
    "Calculate $f(x),\\ S(x),\\ |S(x)-f(x)|$ for each dividing points. The result is showed in the table below."
   ]
  },
  {
   "cell_type": "code",
   "execution_count": 10,
   "metadata": {},
   "outputs": [
    {
     "data": {
      "text/html": [
       "<div>\n",
       "<style scoped>\n",
       "    .dataframe tbody tr th:only-of-type {\n",
       "        vertical-align: middle;\n",
       "    }\n",
       "\n",
       "    .dataframe tbody tr th {\n",
       "        vertical-align: top;\n",
       "    }\n",
       "\n",
       "    .dataframe thead th {\n",
       "        text-align: right;\n",
       "    }\n",
       "</style>\n",
       "<table border=\"1\" class=\"dataframe\">\n",
       "  <thead>\n",
       "    <tr style=\"text-align: right;\">\n",
       "      <th></th>\n",
       "      <th>x</th>\n",
       "      <th>f(x)</th>\n",
       "      <th>S(x)</th>\n",
       "      <th>|S(x)-f(x)|</th>\n",
       "    </tr>\n",
       "  </thead>\n",
       "  <tbody>\n",
       "    <tr>\n",
       "      <th>0</th>\n",
       "      <td>-1.00</td>\n",
       "      <td>0.038462</td>\n",
       "      <td>0.037016</td>\n",
       "      <td>0.001446</td>\n",
       "    </tr>\n",
       "    <tr>\n",
       "      <th>1</th>\n",
       "      <td>-0.95</td>\n",
       "      <td>0.042440</td>\n",
       "      <td>0.040849</td>\n",
       "      <td>0.001592</td>\n",
       "    </tr>\n",
       "    <tr>\n",
       "      <th>2</th>\n",
       "      <td>-0.90</td>\n",
       "      <td>0.047059</td>\n",
       "      <td>0.048685</td>\n",
       "      <td>0.001626</td>\n",
       "    </tr>\n",
       "    <tr>\n",
       "      <th>3</th>\n",
       "      <td>-0.85</td>\n",
       "      <td>0.052459</td>\n",
       "      <td>0.052261</td>\n",
       "      <td>0.000198</td>\n",
       "    </tr>\n",
       "    <tr>\n",
       "      <th>4</th>\n",
       "      <td>-0.80</td>\n",
       "      <td>0.058824</td>\n",
       "      <td>0.056713</td>\n",
       "      <td>0.002110</td>\n",
       "    </tr>\n",
       "    <tr>\n",
       "      <th>5</th>\n",
       "      <td>-0.75</td>\n",
       "      <td>0.066390</td>\n",
       "      <td>0.067169</td>\n",
       "      <td>0.000779</td>\n",
       "    </tr>\n",
       "    <tr>\n",
       "      <th>6</th>\n",
       "      <td>-0.70</td>\n",
       "      <td>0.075472</td>\n",
       "      <td>0.078252</td>\n",
       "      <td>0.002780</td>\n",
       "    </tr>\n",
       "    <tr>\n",
       "      <th>7</th>\n",
       "      <td>-0.65</td>\n",
       "      <td>0.086486</td>\n",
       "      <td>0.086534</td>\n",
       "      <td>0.000047</td>\n",
       "    </tr>\n",
       "    <tr>\n",
       "      <th>8</th>\n",
       "      <td>-0.60</td>\n",
       "      <td>0.100000</td>\n",
       "      <td>0.096413</td>\n",
       "      <td>0.003587</td>\n",
       "    </tr>\n",
       "    <tr>\n",
       "      <th>9</th>\n",
       "      <td>-0.55</td>\n",
       "      <td>0.116788</td>\n",
       "      <td>0.114126</td>\n",
       "      <td>0.002663</td>\n",
       "    </tr>\n",
       "    <tr>\n",
       "      <th>10</th>\n",
       "      <td>-0.50</td>\n",
       "      <td>0.137931</td>\n",
       "      <td>0.140523</td>\n",
       "      <td>0.002592</td>\n",
       "    </tr>\n",
       "    <tr>\n",
       "      <th>11</th>\n",
       "      <td>-0.45</td>\n",
       "      <td>0.164948</td>\n",
       "      <td>0.171124</td>\n",
       "      <td>0.006176</td>\n",
       "    </tr>\n",
       "    <tr>\n",
       "      <th>12</th>\n",
       "      <td>-0.40</td>\n",
       "      <td>0.200000</td>\n",
       "      <td>0.202763</td>\n",
       "      <td>0.002763</td>\n",
       "    </tr>\n",
       "    <tr>\n",
       "      <th>13</th>\n",
       "      <td>-0.35</td>\n",
       "      <td>0.246154</td>\n",
       "      <td>0.240175</td>\n",
       "      <td>0.005979</td>\n",
       "    </tr>\n",
       "    <tr>\n",
       "      <th>14</th>\n",
       "      <td>-0.30</td>\n",
       "      <td>0.307692</td>\n",
       "      <td>0.296333</td>\n",
       "      <td>0.011360</td>\n",
       "    </tr>\n",
       "    <tr>\n",
       "      <th>15</th>\n",
       "      <td>-0.25</td>\n",
       "      <td>0.390244</td>\n",
       "      <td>0.385335</td>\n",
       "      <td>0.004909</td>\n",
       "    </tr>\n",
       "    <tr>\n",
       "      <th>16</th>\n",
       "      <td>-0.20</td>\n",
       "      <td>0.500000</td>\n",
       "      <td>0.511895</td>\n",
       "      <td>0.011895</td>\n",
       "    </tr>\n",
       "    <tr>\n",
       "      <th>17</th>\n",
       "      <td>-0.15</td>\n",
       "      <td>0.640000</td>\n",
       "      <td>0.663854</td>\n",
       "      <td>0.023854</td>\n",
       "    </tr>\n",
       "    <tr>\n",
       "      <th>18</th>\n",
       "      <td>-0.10</td>\n",
       "      <td>0.800000</td>\n",
       "      <td>0.812606</td>\n",
       "      <td>0.012606</td>\n",
       "    </tr>\n",
       "    <tr>\n",
       "      <th>19</th>\n",
       "      <td>-0.05</td>\n",
       "      <td>0.941176</td>\n",
       "      <td>0.922073</td>\n",
       "      <td>0.019103</td>\n",
       "    </tr>\n",
       "    <tr>\n",
       "      <th>20</th>\n",
       "      <td>0.00</td>\n",
       "      <td>1.000000</td>\n",
       "      <td>0.962410</td>\n",
       "      <td>0.037590</td>\n",
       "    </tr>\n",
       "    <tr>\n",
       "      <th>21</th>\n",
       "      <td>0.05</td>\n",
       "      <td>0.941176</td>\n",
       "      <td>0.922073</td>\n",
       "      <td>0.019103</td>\n",
       "    </tr>\n",
       "    <tr>\n",
       "      <th>22</th>\n",
       "      <td>0.10</td>\n",
       "      <td>0.800000</td>\n",
       "      <td>0.812606</td>\n",
       "      <td>0.012606</td>\n",
       "    </tr>\n",
       "    <tr>\n",
       "      <th>23</th>\n",
       "      <td>0.15</td>\n",
       "      <td>0.640000</td>\n",
       "      <td>0.663854</td>\n",
       "      <td>0.023854</td>\n",
       "    </tr>\n",
       "    <tr>\n",
       "      <th>24</th>\n",
       "      <td>0.20</td>\n",
       "      <td>0.500000</td>\n",
       "      <td>0.511895</td>\n",
       "      <td>0.011895</td>\n",
       "    </tr>\n",
       "    <tr>\n",
       "      <th>25</th>\n",
       "      <td>0.25</td>\n",
       "      <td>0.390244</td>\n",
       "      <td>0.385335</td>\n",
       "      <td>0.004909</td>\n",
       "    </tr>\n",
       "    <tr>\n",
       "      <th>26</th>\n",
       "      <td>0.30</td>\n",
       "      <td>0.307692</td>\n",
       "      <td>0.296333</td>\n",
       "      <td>0.011360</td>\n",
       "    </tr>\n",
       "    <tr>\n",
       "      <th>27</th>\n",
       "      <td>0.35</td>\n",
       "      <td>0.246154</td>\n",
       "      <td>0.240175</td>\n",
       "      <td>0.005979</td>\n",
       "    </tr>\n",
       "    <tr>\n",
       "      <th>28</th>\n",
       "      <td>0.40</td>\n",
       "      <td>0.200000</td>\n",
       "      <td>0.202763</td>\n",
       "      <td>0.002763</td>\n",
       "    </tr>\n",
       "    <tr>\n",
       "      <th>29</th>\n",
       "      <td>0.45</td>\n",
       "      <td>0.164948</td>\n",
       "      <td>0.171124</td>\n",
       "      <td>0.006176</td>\n",
       "    </tr>\n",
       "    <tr>\n",
       "      <th>30</th>\n",
       "      <td>0.50</td>\n",
       "      <td>0.137931</td>\n",
       "      <td>0.140523</td>\n",
       "      <td>0.002592</td>\n",
       "    </tr>\n",
       "    <tr>\n",
       "      <th>31</th>\n",
       "      <td>0.55</td>\n",
       "      <td>0.116788</td>\n",
       "      <td>0.114126</td>\n",
       "      <td>0.002663</td>\n",
       "    </tr>\n",
       "    <tr>\n",
       "      <th>32</th>\n",
       "      <td>0.60</td>\n",
       "      <td>0.100000</td>\n",
       "      <td>0.096413</td>\n",
       "      <td>0.003587</td>\n",
       "    </tr>\n",
       "    <tr>\n",
       "      <th>33</th>\n",
       "      <td>0.65</td>\n",
       "      <td>0.086486</td>\n",
       "      <td>0.086534</td>\n",
       "      <td>0.000047</td>\n",
       "    </tr>\n",
       "    <tr>\n",
       "      <th>34</th>\n",
       "      <td>0.70</td>\n",
       "      <td>0.075472</td>\n",
       "      <td>0.078252</td>\n",
       "      <td>0.002780</td>\n",
       "    </tr>\n",
       "    <tr>\n",
       "      <th>35</th>\n",
       "      <td>0.75</td>\n",
       "      <td>0.066390</td>\n",
       "      <td>0.067169</td>\n",
       "      <td>0.000779</td>\n",
       "    </tr>\n",
       "    <tr>\n",
       "      <th>36</th>\n",
       "      <td>0.80</td>\n",
       "      <td>0.058824</td>\n",
       "      <td>0.056713</td>\n",
       "      <td>0.002110</td>\n",
       "    </tr>\n",
       "    <tr>\n",
       "      <th>37</th>\n",
       "      <td>0.85</td>\n",
       "      <td>0.052459</td>\n",
       "      <td>0.052261</td>\n",
       "      <td>0.000198</td>\n",
       "    </tr>\n",
       "    <tr>\n",
       "      <th>38</th>\n",
       "      <td>0.90</td>\n",
       "      <td>0.047059</td>\n",
       "      <td>0.048685</td>\n",
       "      <td>0.001626</td>\n",
       "    </tr>\n",
       "    <tr>\n",
       "      <th>39</th>\n",
       "      <td>0.95</td>\n",
       "      <td>0.042440</td>\n",
       "      <td>0.040849</td>\n",
       "      <td>0.001592</td>\n",
       "    </tr>\n",
       "    <tr>\n",
       "      <th>40</th>\n",
       "      <td>1.00</td>\n",
       "      <td>0.038462</td>\n",
       "      <td>0.037016</td>\n",
       "      <td>0.001446</td>\n",
       "    </tr>\n",
       "  </tbody>\n",
       "</table>\n",
       "</div>"
      ],
      "text/plain": [
       "       x      f(x)      S(x)  |S(x)-f(x)|\n",
       "0  -1.00  0.038462  0.037016     0.001446\n",
       "1  -0.95  0.042440  0.040849     0.001592\n",
       "2  -0.90  0.047059  0.048685     0.001626\n",
       "3  -0.85  0.052459  0.052261     0.000198\n",
       "4  -0.80  0.058824  0.056713     0.002110\n",
       "5  -0.75  0.066390  0.067169     0.000779\n",
       "6  -0.70  0.075472  0.078252     0.002780\n",
       "7  -0.65  0.086486  0.086534     0.000047\n",
       "8  -0.60  0.100000  0.096413     0.003587\n",
       "9  -0.55  0.116788  0.114126     0.002663\n",
       "10 -0.50  0.137931  0.140523     0.002592\n",
       "11 -0.45  0.164948  0.171124     0.006176\n",
       "12 -0.40  0.200000  0.202763     0.002763\n",
       "13 -0.35  0.246154  0.240175     0.005979\n",
       "14 -0.30  0.307692  0.296333     0.011360\n",
       "15 -0.25  0.390244  0.385335     0.004909\n",
       "16 -0.20  0.500000  0.511895     0.011895\n",
       "17 -0.15  0.640000  0.663854     0.023854\n",
       "18 -0.10  0.800000  0.812606     0.012606\n",
       "19 -0.05  0.941176  0.922073     0.019103\n",
       "20  0.00  1.000000  0.962410     0.037590\n",
       "21  0.05  0.941176  0.922073     0.019103\n",
       "22  0.10  0.800000  0.812606     0.012606\n",
       "23  0.15  0.640000  0.663854     0.023854\n",
       "24  0.20  0.500000  0.511895     0.011895\n",
       "25  0.25  0.390244  0.385335     0.004909\n",
       "26  0.30  0.307692  0.296333     0.011360\n",
       "27  0.35  0.246154  0.240175     0.005979\n",
       "28  0.40  0.200000  0.202763     0.002763\n",
       "29  0.45  0.164948  0.171124     0.006176\n",
       "30  0.50  0.137931  0.140523     0.002592\n",
       "31  0.55  0.116788  0.114126     0.002663\n",
       "32  0.60  0.100000  0.096413     0.003587\n",
       "33  0.65  0.086486  0.086534     0.000047\n",
       "34  0.70  0.075472  0.078252     0.002780\n",
       "35  0.75  0.066390  0.067169     0.000779\n",
       "36  0.80  0.058824  0.056713     0.002110\n",
       "37  0.85  0.052459  0.052261     0.000198\n",
       "38  0.90  0.047059  0.048685     0.001626\n",
       "39  0.95  0.042440  0.040849     0.001592\n",
       "40  1.00  0.038462  0.037016     0.001446"
      ]
     },
     "execution_count": 10,
     "metadata": {},
     "output_type": "execute_result"
    }
   ],
   "source": [
    "Chebyshev_values = Chebyshev_expansion(np.array(uniform_points_of_Runge))\n",
    "\n",
    "df = DataFrame({'x':uniform_points_of_Runge, 'S(x)':Chebyshev_values,\n",
    "                'f(x)':Runge_values, '|S(x)-f(x)|':abs(Chebyshev_values - Runge_values)},\n",
    "               columns=['x', 'f(x)', 'S(x)', '|S(x)-f(x)|'])\n",
    "df.round({'x': 2})"
   ]
  },
  {
   "cell_type": "markdown",
   "metadata": {},
   "source": [
    "Plot $f(x)$ and $S(x)$ together. From the diagram, we see $S(x)$ generally fits $f(x)$ well; but not so well close to origin, which is opposed to the result in (a). And there are no singular points like $x= \\pm 0.95$ in (a)."
   ]
  },
  {
   "cell_type": "code",
   "execution_count": 11,
   "metadata": {},
   "outputs": [
    {
     "name": "stderr",
     "output_type": "stream",
     "text": [
      "/Library/Frameworks/Python.framework/Versions/3.6/lib/python3.6/site-packages/pandas/plotting/_core.py:1716: UserWarning: Pandas doesn't allow columns to be created via a new attribute name - see https://pandas.pydata.org/pandas-docs/stable/indexing.html#attribute-access\n",
      "  series.name = label\n"
     ]
    },
    {
     "data": {
      "text/plain": [
       "<matplotlib.axes._subplots.AxesSubplot at 0x112689588>"
      ]
     },
     "execution_count": 11,
     "metadata": {},
     "output_type": "execute_result"
    },
    {
     "data": {
      "image/png": "[encoded data removed]",
      "text/plain": [
       "<matplotlib.figure.Figure at 0x112610748>"
      ]
     },
     "metadata": {},
     "output_type": "display_data"
    }
   ],
   "source": [
    "df.plot.line(x='x', y=['f(x)','S(x)'])"
   ]
  },
  {
   "cell_type": "markdown",
   "metadata": {},
   "source": [
    "Plot $|S(x)-f(x)|$ together. We can see more clearly that the difference generally increases when approaching the origin."
   ]
  },
  {
   "cell_type": "code",
   "execution_count": 12,
   "metadata": {},
   "outputs": [
    {
     "data": {
      "text/plain": [
       "<matplotlib.axes._subplots.AxesSubplot at 0x112698208>"
      ]
     },
     "execution_count": 12,
     "metadata": {},
     "output_type": "execute_result"
    },
    {
     "data": {
      "image/png": "[encoded data removed]",
      "text/plain": [
       "<matplotlib.figure.Figure at 0x11272f4a8>"
      ]
     },
     "metadata": {},
     "output_type": "display_data"
    }
   ],
   "source": [
    "df.plot.line(x='x', y='|S(x)-f(x)|')"
   ]
  },
  {
   "cell_type": "markdown",
   "metadata": {},
   "source": [
    "## (c) Cubic Spline Function\n",
    "To get the cubic spline function, we firstly construct an algorithms to compute the cubic polynomial on each small interval. The result is a list of polynomials, whose j-th component is the polynomial on each interval $[x_j,x_{j+1}],\\quad j=0,\\cdots,n$. (Showed in output)\n",
    "\n",
    "We add two constrains to the spline function. That is $S''(x)\\big|_{x=\\pm 1}=f''(x)\\approx 0.2105$, i.e. $M_0=M_n=0.2105$. According to equation(36), we have $\\lambda_0=\\mu_n = 0,\\quad d_0=d_n=2M_0=0.421$."
   ]
  },
  {
   "cell_type": "code",
   "execution_count": 13,
   "metadata": {},
   "outputs": [
    {
     "name": "stdout",
     "output_type": "stream",
     "text": [
      "[ -1.0 , -0.9 ]:\n",
      "        3          2\n",
      "0.1577 x + 0.5785 x + 0.7576 x + 0.3753\n",
      "[ -0.9 , -0.8 ]:\n",
      "        3          2\n",
      "0.2738 x + 0.8917 x + 1.04 x + 0.4599\n",
      "[ -0.8 , -0.7 ]:\n",
      "        3         2\n",
      "0.4633 x + 1.347 x + 1.403 x + 0.5569\n",
      "[ -0.7 , -0.6 ]:\n",
      "        3       2\n",
      "0.8697 x + 2.2 x + 2.001 x + 0.6964\n",
      "[ -0.6 , -0.5 ]:\n",
      "      3         2\n",
      "1.58 x + 3.479 x + 2.768 x + 0.8498\n",
      "[ -0.5 , -0.4 ]:\n",
      "       3         2\n",
      "3.544 x + 6.425 x + 4.241 x + 1.095\n",
      "[ -0.4 , -0.3 ]:\n",
      "       3         2\n",
      "5.728 x + 9.046 x + 5.29 x + 1.235\n",
      "[ -0.3 , -0.2 ]:\n",
      "       3         2\n",
      "12.53 x + 15.17 x + 7.127 x + 1.419\n",
      "[ -0.2 , -0.1 ]:\n",
      "        3         2\n",
      "-32.79 x - 12.02 x + 1.688 x + 1.056\n",
      "[ -0.1 , -0.0 ]:\n",
      "        3         2\n",
      "-89.07 x - 28.91 x - 3.109e-15 x + 1\n",
      "[ -0.0 , 0.1 ]:\n",
      "       3         2\n",
      "89.07 x - 28.91 x - 3.997e-15 x + 1\n",
      "[ 0.1 , 0.2 ]:\n",
      "       3         2\n",
      "32.79 x - 12.02 x - 1.688 x + 1.056\n",
      "[ 0.2 , 0.3 ]:\n",
      "        3         2\n",
      "-12.53 x + 15.17 x - 7.127 x + 1.419\n",
      "[ 0.3 , 0.4 ]:\n",
      "        3         2\n",
      "-5.728 x + 9.046 x - 5.29 x + 1.235\n",
      "[ 0.4 , 0.5 ]:\n",
      "        3         2\n",
      "-3.544 x + 6.425 x - 4.241 x + 1.095\n",
      "[ 0.5 , 0.6 ]:\n",
      "       3         2\n",
      "-1.58 x + 3.479 x - 2.768 x + 0.8498\n",
      "[ 0.6 , 0.7 ]:\n",
      "         3       2\n",
      "-0.8697 x + 2.2 x - 2.001 x + 0.6964\n",
      "[ 0.7 , 0.8 ]:\n",
      "         3         2\n",
      "-0.4633 x + 1.347 x - 1.403 x + 0.5569\n",
      "[ 0.8 , 0.9 ]:\n",
      "         3          2\n",
      "-0.2738 x + 0.8917 x - 1.04 x + 0.4599\n",
      "[ 0.9 , 1.0 ]:\n",
      "         3          2\n",
      "-0.1577 x + 0.5785 x - 0.7576 x + 0.3753\n"
     ]
    }
   ],
   "source": [
    "def cubic_splines(nodes, lam_0, mu_n, d_0, d_n):\n",
    "    n = len(nodes) - 1\n",
    "    x = [node[0] for node in nodes]\n",
    "    y = [node[1] for node in nodes]\n",
    "    h = [x[j+1] - x[j] for j in range(0, n)]\n",
    "    mu = [None] + [h[j-1] / (h[j-1] + h[j]) for j in range(1,n)] + [mu_n]\n",
    "    lam = [lam_0] + [h[j] / (h[j-1] + h[j]) for j in range(1,n)] + [None]\n",
    "    d = [6 * (y[j-1] / h[j-1] / (h[j-1]+h[j]) +\\\n",
    "             y[j+1] / h[j] / (h[j-1]+h[j]) -\\\n",
    "             y[j] / h[j-1] / h[j]) for j in range(1, n)]\n",
    "    d = [d_0] + d + [d_n]\n",
    "    \n",
    "    coefficient_matrix =  np.zeros((n+1,n+1))\n",
    "    for i in range(n+1):\n",
    "        coefficient_matrix[i][i] = 2\n",
    "    for i in range(n):\n",
    "        coefficient_matrix[i][i+1] = lam[i]\n",
    "        coefficient_matrix[i+1][i] = mu[i+1]\n",
    "        \n",
    "    M = solve(coefficient_matrix, d)\n",
    "        \n",
    "    A = [(y[j+1] - y[j]) / h[j] - h[j] / 6 * (M[j+1] - M[j])  for j in range(n)]\n",
    "    B = [y[j] - M[j] * h[j] ** 2 / 6  for j in range(n)]\n",
    "    \n",
    "    S = [np.poly1d([-M[j]]) / 6 / h[j] * np.poly1d([1, -x[j+1]]) ** 3 +\\\n",
    "        np.poly1d([M[j+1]]) / 6 / h[j] * np.poly1d([1, -x[j]]) ** 3 + A[j] * np.poly1d([1, -x[j]]) + B[j]\n",
    "        for j in range(n)]\n",
    "    # Bug if M[] is not converted into 'poly1d' object!\n",
    "    return S\n",
    "\n",
    "\n",
    "splines = cubic_splines(uniform_nodes_of_Runge, lam_0=0, mu_n=0, d_0=0.421, d_n=0.421)\n",
    "\n",
    "for i in range(len(splines)):\n",
    "    print('[', '%.1f' % (uniform_nodes_of_Runge[i][0]), ',',\n",
    "          '%.1f' % (uniform_nodes_of_Runge[i+1][0]),  ']:')\n",
    "    print(np.poly1d(splines[i]))"
   ]
  },
  {
   "cell_type": "markdown",
   "metadata": {},
   "source": [
    "Using the polynomial expressions above, we can compute the function value $S(x)$ of each of the 41 points.\n",
    "\n",
    "Show $f(x),\\ S(x),\\ |S(x)-f(x)|$ in the following table. Compared to polynomial interpolation in (a), (b), the cubic spline function is more accurate in fitting Runge function. And no sigular points as well."
   ]
  },
  {
   "cell_type": "code",
   "execution_count": 14,
   "metadata": {},
   "outputs": [
    {
     "data": {
      "text/html": [
       "<div>\n",
       "<style scoped>\n",
       "    .dataframe tbody tr th:only-of-type {\n",
       "        vertical-align: middle;\n",
       "    }\n",
       "\n",
       "    .dataframe tbody tr th {\n",
       "        vertical-align: top;\n",
       "    }\n",
       "\n",
       "    .dataframe thead th {\n",
       "        text-align: right;\n",
       "    }\n",
       "</style>\n",
       "<table border=\"1\" class=\"dataframe\">\n",
       "  <thead>\n",
       "    <tr style=\"text-align: right;\">\n",
       "      <th></th>\n",
       "      <th>x</th>\n",
       "      <th>f(x)</th>\n",
       "      <th>S(x)</th>\n",
       "      <th>|S(x)-f(x)|</th>\n",
       "    </tr>\n",
       "  </thead>\n",
       "  <tbody>\n",
       "    <tr>\n",
       "      <th>0</th>\n",
       "      <td>-1.00</td>\n",
       "      <td>0.038462</td>\n",
       "      <td>0.038462</td>\n",
       "      <td>8.326673e-17</td>\n",
       "    </tr>\n",
       "    <tr>\n",
       "      <th>1</th>\n",
       "      <td>-0.95</td>\n",
       "      <td>0.042440</td>\n",
       "      <td>0.042438</td>\n",
       "      <td>2.412308e-06</td>\n",
       "    </tr>\n",
       "    <tr>\n",
       "      <th>2</th>\n",
       "      <td>-0.90</td>\n",
       "      <td>0.047059</td>\n",
       "      <td>0.047059</td>\n",
       "      <td>2.844947e-16</td>\n",
       "    </tr>\n",
       "    <tr>\n",
       "      <th>3</th>\n",
       "      <td>-0.85</td>\n",
       "      <td>0.052459</td>\n",
       "      <td>0.052457</td>\n",
       "      <td>1.922724e-06</td>\n",
       "    </tr>\n",
       "    <tr>\n",
       "      <th>4</th>\n",
       "      <td>-0.80</td>\n",
       "      <td>0.058824</td>\n",
       "      <td>0.058824</td>\n",
       "      <td>9.714451e-17</td>\n",
       "    </tr>\n",
       "    <tr>\n",
       "      <th>5</th>\n",
       "      <td>-0.75</td>\n",
       "      <td>0.066390</td>\n",
       "      <td>0.066387</td>\n",
       "      <td>2.902889e-06</td>\n",
       "    </tr>\n",
       "    <tr>\n",
       "      <th>6</th>\n",
       "      <td>-0.70</td>\n",
       "      <td>0.075472</td>\n",
       "      <td>0.075472</td>\n",
       "      <td>4.163336e-17</td>\n",
       "    </tr>\n",
       "    <tr>\n",
       "      <th>7</th>\n",
       "      <td>-0.65</td>\n",
       "      <td>0.086486</td>\n",
       "      <td>0.086475</td>\n",
       "      <td>1.100250e-05</td>\n",
       "    </tr>\n",
       "    <tr>\n",
       "      <th>8</th>\n",
       "      <td>-0.60</td>\n",
       "      <td>0.100000</td>\n",
       "      <td>0.100000</td>\n",
       "      <td>2.359224e-16</td>\n",
       "    </tr>\n",
       "    <tr>\n",
       "      <th>9</th>\n",
       "      <td>-0.55</td>\n",
       "      <td>0.116788</td>\n",
       "      <td>0.116786</td>\n",
       "      <td>1.943161e-06</td>\n",
       "    </tr>\n",
       "    <tr>\n",
       "      <th>10</th>\n",
       "      <td>-0.50</td>\n",
       "      <td>0.137931</td>\n",
       "      <td>0.137931</td>\n",
       "      <td>3.053113e-16</td>\n",
       "    </tr>\n",
       "    <tr>\n",
       "      <th>11</th>\n",
       "      <td>-0.45</td>\n",
       "      <td>0.164948</td>\n",
       "      <td>0.164865</td>\n",
       "      <td>8.376322e-05</td>\n",
       "    </tr>\n",
       "    <tr>\n",
       "      <th>12</th>\n",
       "      <td>-0.40</td>\n",
       "      <td>0.200000</td>\n",
       "      <td>0.200000</td>\n",
       "      <td>6.383782e-16</td>\n",
       "    </tr>\n",
       "    <tr>\n",
       "      <th>13</th>\n",
       "      <td>-0.35</td>\n",
       "      <td>0.246154</td>\n",
       "      <td>0.246268</td>\n",
       "      <td>1.142769e-04</td>\n",
       "    </tr>\n",
       "    <tr>\n",
       "      <th>14</th>\n",
       "      <td>-0.30</td>\n",
       "      <td>0.307692</td>\n",
       "      <td>0.307692</td>\n",
       "      <td>4.440892e-16</td>\n",
       "    </tr>\n",
       "    <tr>\n",
       "      <th>15</th>\n",
       "      <td>-0.25</td>\n",
       "      <td>0.390244</td>\n",
       "      <td>0.389420</td>\n",
       "      <td>8.243211e-04</td>\n",
       "    </tr>\n",
       "    <tr>\n",
       "      <th>16</th>\n",
       "      <td>-0.20</td>\n",
       "      <td>0.500000</td>\n",
       "      <td>0.500000</td>\n",
       "      <td>1.110223e-16</td>\n",
       "    </tr>\n",
       "    <tr>\n",
       "      <th>17</th>\n",
       "      <td>-0.15</td>\n",
       "      <td>0.640000</td>\n",
       "      <td>0.643169</td>\n",
       "      <td>3.168936e-03</td>\n",
       "    </tr>\n",
       "    <tr>\n",
       "      <th>18</th>\n",
       "      <td>-0.10</td>\n",
       "      <td>0.800000</td>\n",
       "      <td>0.800000</td>\n",
       "      <td>1.110223e-16</td>\n",
       "    </tr>\n",
       "    <tr>\n",
       "      <th>19</th>\n",
       "      <td>-0.05</td>\n",
       "      <td>0.941176</td>\n",
       "      <td>0.938866</td>\n",
       "      <td>2.310258e-03</td>\n",
       "    </tr>\n",
       "    <tr>\n",
       "      <th>20</th>\n",
       "      <td>0.00</td>\n",
       "      <td>1.000000</td>\n",
       "      <td>1.000000</td>\n",
       "      <td>1.110223e-16</td>\n",
       "    </tr>\n",
       "    <tr>\n",
       "      <th>21</th>\n",
       "      <td>0.05</td>\n",
       "      <td>0.941176</td>\n",
       "      <td>0.938866</td>\n",
       "      <td>2.310258e-03</td>\n",
       "    </tr>\n",
       "    <tr>\n",
       "      <th>22</th>\n",
       "      <td>0.10</td>\n",
       "      <td>0.800000</td>\n",
       "      <td>0.800000</td>\n",
       "      <td>1.110223e-16</td>\n",
       "    </tr>\n",
       "    <tr>\n",
       "      <th>23</th>\n",
       "      <td>0.15</td>\n",
       "      <td>0.640000</td>\n",
       "      <td>0.643169</td>\n",
       "      <td>3.168936e-03</td>\n",
       "    </tr>\n",
       "    <tr>\n",
       "      <th>24</th>\n",
       "      <td>0.20</td>\n",
       "      <td>0.500000</td>\n",
       "      <td>0.500000</td>\n",
       "      <td>1.110223e-16</td>\n",
       "    </tr>\n",
       "    <tr>\n",
       "      <th>25</th>\n",
       "      <td>0.25</td>\n",
       "      <td>0.390244</td>\n",
       "      <td>0.389420</td>\n",
       "      <td>8.243211e-04</td>\n",
       "    </tr>\n",
       "    <tr>\n",
       "      <th>26</th>\n",
       "      <td>0.30</td>\n",
       "      <td>0.307692</td>\n",
       "      <td>0.307692</td>\n",
       "      <td>2.220446e-16</td>\n",
       "    </tr>\n",
       "    <tr>\n",
       "      <th>27</th>\n",
       "      <td>0.35</td>\n",
       "      <td>0.246154</td>\n",
       "      <td>0.246268</td>\n",
       "      <td>1.142769e-04</td>\n",
       "    </tr>\n",
       "    <tr>\n",
       "      <th>28</th>\n",
       "      <td>0.40</td>\n",
       "      <td>0.200000</td>\n",
       "      <td>0.200000</td>\n",
       "      <td>5.551115e-17</td>\n",
       "    </tr>\n",
       "    <tr>\n",
       "      <th>29</th>\n",
       "      <td>0.45</td>\n",
       "      <td>0.164948</td>\n",
       "      <td>0.164865</td>\n",
       "      <td>8.376322e-05</td>\n",
       "    </tr>\n",
       "    <tr>\n",
       "      <th>30</th>\n",
       "      <td>0.50</td>\n",
       "      <td>0.137931</td>\n",
       "      <td>0.137931</td>\n",
       "      <td>1.387779e-16</td>\n",
       "    </tr>\n",
       "    <tr>\n",
       "      <th>31</th>\n",
       "      <td>0.55</td>\n",
       "      <td>0.116788</td>\n",
       "      <td>0.116786</td>\n",
       "      <td>1.943161e-06</td>\n",
       "    </tr>\n",
       "    <tr>\n",
       "      <th>32</th>\n",
       "      <td>0.60</td>\n",
       "      <td>0.100000</td>\n",
       "      <td>0.100000</td>\n",
       "      <td>1.526557e-16</td>\n",
       "    </tr>\n",
       "    <tr>\n",
       "      <th>33</th>\n",
       "      <td>0.65</td>\n",
       "      <td>0.086486</td>\n",
       "      <td>0.086475</td>\n",
       "      <td>1.100250e-05</td>\n",
       "    </tr>\n",
       "    <tr>\n",
       "      <th>34</th>\n",
       "      <td>0.70</td>\n",
       "      <td>0.075472</td>\n",
       "      <td>0.075472</td>\n",
       "      <td>3.747003e-16</td>\n",
       "    </tr>\n",
       "    <tr>\n",
       "      <th>35</th>\n",
       "      <td>0.75</td>\n",
       "      <td>0.066390</td>\n",
       "      <td>0.066387</td>\n",
       "      <td>2.902889e-06</td>\n",
       "    </tr>\n",
       "    <tr>\n",
       "      <th>36</th>\n",
       "      <td>0.80</td>\n",
       "      <td>0.058824</td>\n",
       "      <td>0.058824</td>\n",
       "      <td>1.249001e-16</td>\n",
       "    </tr>\n",
       "    <tr>\n",
       "      <th>37</th>\n",
       "      <td>0.85</td>\n",
       "      <td>0.052459</td>\n",
       "      <td>0.052457</td>\n",
       "      <td>1.922724e-06</td>\n",
       "    </tr>\n",
       "    <tr>\n",
       "      <th>38</th>\n",
       "      <td>0.90</td>\n",
       "      <td>0.047059</td>\n",
       "      <td>0.047059</td>\n",
       "      <td>1.110223e-16</td>\n",
       "    </tr>\n",
       "    <tr>\n",
       "      <th>39</th>\n",
       "      <td>0.95</td>\n",
       "      <td>0.042440</td>\n",
       "      <td>0.042438</td>\n",
       "      <td>2.412308e-06</td>\n",
       "    </tr>\n",
       "    <tr>\n",
       "      <th>40</th>\n",
       "      <td>1.00</td>\n",
       "      <td>0.038462</td>\n",
       "      <td>0.038462</td>\n",
       "      <td>1.179612e-16</td>\n",
       "    </tr>\n",
       "  </tbody>\n",
       "</table>\n",
       "</div>"
      ],
      "text/plain": [
       "       x      f(x)      S(x)   |S(x)-f(x)|\n",
       "0  -1.00  0.038462  0.038462  8.326673e-17\n",
       "1  -0.95  0.042440  0.042438  2.412308e-06\n",
       "2  -0.90  0.047059  0.047059  2.844947e-16\n",
       "3  -0.85  0.052459  0.052457  1.922724e-06\n",
       "4  -0.80  0.058824  0.058824  9.714451e-17\n",
       "5  -0.75  0.066390  0.066387  2.902889e-06\n",
       "6  -0.70  0.075472  0.075472  4.163336e-17\n",
       "7  -0.65  0.086486  0.086475  1.100250e-05\n",
       "8  -0.60  0.100000  0.100000  2.359224e-16\n",
       "9  -0.55  0.116788  0.116786  1.943161e-06\n",
       "10 -0.50  0.137931  0.137931  3.053113e-16\n",
       "11 -0.45  0.164948  0.164865  8.376322e-05\n",
       "12 -0.40  0.200000  0.200000  6.383782e-16\n",
       "13 -0.35  0.246154  0.246268  1.142769e-04\n",
       "14 -0.30  0.307692  0.307692  4.440892e-16\n",
       "15 -0.25  0.390244  0.389420  8.243211e-04\n",
       "16 -0.20  0.500000  0.500000  1.110223e-16\n",
       "17 -0.15  0.640000  0.643169  3.168936e-03\n",
       "18 -0.10  0.800000  0.800000  1.110223e-16\n",
       "19 -0.05  0.941176  0.938866  2.310258e-03\n",
       "20  0.00  1.000000  1.000000  1.110223e-16\n",
       "21  0.05  0.941176  0.938866  2.310258e-03\n",
       "22  0.10  0.800000  0.800000  1.110223e-16\n",
       "23  0.15  0.640000  0.643169  3.168936e-03\n",
       "24  0.20  0.500000  0.500000  1.110223e-16\n",
       "25  0.25  0.390244  0.389420  8.243211e-04\n",
       "26  0.30  0.307692  0.307692  2.220446e-16\n",
       "27  0.35  0.246154  0.246268  1.142769e-04\n",
       "28  0.40  0.200000  0.200000  5.551115e-17\n",
       "29  0.45  0.164948  0.164865  8.376322e-05\n",
       "30  0.50  0.137931  0.137931  1.387779e-16\n",
       "31  0.55  0.116788  0.116786  1.943161e-06\n",
       "32  0.60  0.100000  0.100000  1.526557e-16\n",
       "33  0.65  0.086486  0.086475  1.100250e-05\n",
       "34  0.70  0.075472  0.075472  3.747003e-16\n",
       "35  0.75  0.066390  0.066387  2.902889e-06\n",
       "36  0.80  0.058824  0.058824  1.249001e-16\n",
       "37  0.85  0.052459  0.052457  1.922724e-06\n",
       "38  0.90  0.047059  0.047059  1.110223e-16\n",
       "39  0.95  0.042440  0.042438  2.412308e-06\n",
       "40  1.00  0.038462  0.038462  1.179612e-16"
      ]
     },
     "execution_count": 14,
     "metadata": {},
     "output_type": "execute_result"
    }
   ],
   "source": [
    "spline_function_values = []\n",
    "for j in range(len(uniform_points_of_Runge)-1):\n",
    "    spline_function_values.append(splines[j//2](uniform_points_of_Runge[j]))\n",
    "spline_function_values.append(splines[-1](uniform_points_of_Runge[-1]))\n",
    "\n",
    "df = DataFrame({'x':uniform_points_of_Runge, 'S(x)':spline_function_values,\n",
    "                'f(x)':Runge_values, '|S(x)-f(x)|':abs(spline_function_values - Runge_values)},\n",
    "               columns=['x', 'f(x)', 'S(x)', '|S(x)-f(x)|'])\n",
    "df.round({'x': 2})"
   ]
  },
  {
   "cell_type": "markdown",
   "metadata": {},
   "source": [
    "Plot $f(x)$ and $S(x)$ together. Compared to polynomial interpolation, cubic spline function fits much better in general."
   ]
  },
  {
   "cell_type": "code",
   "execution_count": 15,
   "metadata": {},
   "outputs": [
    {
     "data": {
      "text/plain": [
       "<matplotlib.axes._subplots.AxesSubplot at 0x112f7af28>"
      ]
     },
     "execution_count": 15,
     "metadata": {},
     "output_type": "execute_result"
    },
    {
     "data": {
      "image/png": "[encoded data removed]",
      "text/plain": [
       "<matplotlib.figure.Figure at 0x11285a9e8>"
      ]
     },
     "metadata": {},
     "output_type": "display_data"
    }
   ],
   "source": [
    "df.plot.line(x='x', y=['f(x)', 'S(x)'])"
   ]
  },
  {
   "cell_type": "markdown",
   "metadata": {},
   "source": [
    "Plot $|S(x)-f(x)|$. It's very interesting that the error is larger around the origin, just opposed to polynomial interpolation in (a)."
   ]
  },
  {
   "cell_type": "code",
   "execution_count": 16,
   "metadata": {},
   "outputs": [
    {
     "data": {
      "text/plain": [
       "<matplotlib.axes._subplots.AxesSubplot at 0x1125b64a8>"
      ]
     },
     "execution_count": 16,
     "metadata": {},
     "output_type": "execute_result"
    },
    {
     "data": {
      "image/png": "[encoded data removed]",
      "text/plain": [
       "<matplotlib.figure.Figure at 0x112fbb940>"
      ]
     },
     "metadata": {},
     "output_type": "display_data"
    }
   ],
   "source": [
    "df.plot.line(x='x', y='|S(x)-f(x)|')"
   ]
  },
  {
   "cell_type": "markdown",
   "metadata": {},
   "source": [
    "Lastly, let's put the deviation of the fitting function from $f(x)$ in three method together in the diagram below."
   ]
  },
  {
   "cell_type": "code",
   "execution_count": 17,
   "metadata": {},
   "outputs": [
    {
     "data": {
      "text/plain": [
       "<matplotlib.axes._subplots.AxesSubplot at 0x112634c50>"
      ]
     },
     "execution_count": 17,
     "metadata": {},
     "output_type": "execute_result"
    },
    {
     "data": {
      "image/png": "[encoded data removed]",
      "text/plain": [
       "<matplotlib.figure.Figure at 0x112a50518>"
      ]
     },
     "metadata": {},
     "output_type": "display_data"
    }
   ],
   "source": [
    "df = DataFrame({'x':uniform_points_of_Runge,\n",
    "                'Polynomial Interpolation with Same Intervals':abs(P20_values - Runge_values),\n",
    "                'Chebyshev Interpolation':abs(Chebyshev_values - Runge_values),\n",
    "                'Cubic Spline Function':abs(spline_function_values - Runge_values)},\n",
    "               columns=['x', 'Polynomial Interpolation with Same Intervals',\n",
    "                        'Chebyshev Interpolation', 'Cubic Spline Function'])\n",
    "df.plot.line(x='x', y=['Polynomial Interpolation with Same Intervals',\n",
    "                        'Chebyshev Interpolation', 'Cubic Spline Function'], ylim=[0,.05])"
   ]
  },
  {
   "cell_type": "markdown",
   "metadata": {},
   "source": [
    "Summary:\n",
    "\n",
    "1. Cubic spline function is the most accurate method in this problem, followed by Chebyshev interpolation. Polynomial interpolation with same intervals does not work when x deviates from the origin.\n",
    "\n",
    "2. Cubic spline function and Chebyshev interpolation have a larger deviation near the origin, which is opposed to polynomial interpolation with same intervals."
   ]
  },
  {
   "cell_type": "markdown",
   "metadata": {},
   "source": [
    "# 2. 样条函数在计算机绘图中的应用\n",
    "## (a) \n",
    "Consruct the polar equation of cardioid $r(\\phi)$. Calculate $\\phi,\\ x_t,\\ y_t$, showed in the table below."
   ]
  },
  {
   "cell_type": "code",
   "execution_count": 18,
   "metadata": {},
   "outputs": [
    {
     "data": {
      "text/html": [
       "<div>\n",
       "<style scoped>\n",
       "    .dataframe tbody tr th:only-of-type {\n",
       "        vertical-align: middle;\n",
       "    }\n",
       "\n",
       "    .dataframe tbody tr th {\n",
       "        vertical-align: top;\n",
       "    }\n",
       "\n",
       "    .dataframe thead th {\n",
       "        text-align: right;\n",
       "    }\n",
       "</style>\n",
       "<table border=\"1\" class=\"dataframe\">\n",
       "  <thead>\n",
       "    <tr style=\"text-align: right;\">\n",
       "      <th></th>\n",
       "      <th>t</th>\n",
       "      <th>phi</th>\n",
       "      <th>x_t</th>\n",
       "      <th>y_t</th>\n",
       "    </tr>\n",
       "  </thead>\n",
       "  <tbody>\n",
       "    <tr>\n",
       "      <th>0</th>\n",
       "      <td>0</td>\n",
       "      <td>0.000000</td>\n",
       "      <td>0.000000e+00</td>\n",
       "      <td>0.000000e+00</td>\n",
       "    </tr>\n",
       "    <tr>\n",
       "      <th>1</th>\n",
       "      <td>1</td>\n",
       "      <td>0.785398</td>\n",
       "      <td>2.071068e-01</td>\n",
       "      <td>2.071068e-01</td>\n",
       "    </tr>\n",
       "    <tr>\n",
       "      <th>2</th>\n",
       "      <td>2</td>\n",
       "      <td>1.570796</td>\n",
       "      <td>6.123234e-17</td>\n",
       "      <td>1.000000e+00</td>\n",
       "    </tr>\n",
       "    <tr>\n",
       "      <th>3</th>\n",
       "      <td>3</td>\n",
       "      <td>2.356194</td>\n",
       "      <td>-1.207107e+00</td>\n",
       "      <td>1.207107e+00</td>\n",
       "    </tr>\n",
       "    <tr>\n",
       "      <th>4</th>\n",
       "      <td>4</td>\n",
       "      <td>3.141593</td>\n",
       "      <td>-2.000000e+00</td>\n",
       "      <td>2.449294e-16</td>\n",
       "    </tr>\n",
       "    <tr>\n",
       "      <th>5</th>\n",
       "      <td>5</td>\n",
       "      <td>3.926991</td>\n",
       "      <td>-1.207107e+00</td>\n",
       "      <td>-1.207107e+00</td>\n",
       "    </tr>\n",
       "    <tr>\n",
       "      <th>6</th>\n",
       "      <td>6</td>\n",
       "      <td>4.712389</td>\n",
       "      <td>-1.836970e-16</td>\n",
       "      <td>-1.000000e+00</td>\n",
       "    </tr>\n",
       "    <tr>\n",
       "      <th>7</th>\n",
       "      <td>7</td>\n",
       "      <td>5.497787</td>\n",
       "      <td>2.071068e-01</td>\n",
       "      <td>-2.071068e-01</td>\n",
       "    </tr>\n",
       "    <tr>\n",
       "      <th>8</th>\n",
       "      <td>8</td>\n",
       "      <td>6.283185</td>\n",
       "      <td>0.000000e+00</td>\n",
       "      <td>-0.000000e+00</td>\n",
       "    </tr>\n",
       "  </tbody>\n",
       "</table>\n",
       "</div>"
      ],
      "text/plain": [
       "   t       phi           x_t           y_t\n",
       "0  0  0.000000  0.000000e+00  0.000000e+00\n",
       "1  1  0.785398  2.071068e-01  2.071068e-01\n",
       "2  2  1.570796  6.123234e-17  1.000000e+00\n",
       "3  3  2.356194 -1.207107e+00  1.207107e+00\n",
       "4  4  3.141593 -2.000000e+00  2.449294e-16\n",
       "5  5  3.926991 -1.207107e+00 -1.207107e+00\n",
       "6  6  4.712389 -1.836970e-16 -1.000000e+00\n",
       "7  7  5.497787  2.071068e-01 -2.071068e-01\n",
       "8  8  6.283185  0.000000e+00 -0.000000e+00"
      ]
     },
     "execution_count": 18,
     "metadata": {},
     "output_type": "execute_result"
    }
   ],
   "source": [
    "def cardioid(phi, a=0.5):\n",
    "    return 2 * a * (1 - np.cos(phi))\n",
    "\n",
    "def phi(t):\n",
    "    return t * np.pi /4\n",
    "\n",
    "def cardioid_coord(t):\n",
    "    return { 'x': cardioid(phi(t)) * np.cos(phi(t)),\n",
    "            'y': cardioid(phi(t)) * np.sin(phi(t))}\n",
    "\n",
    "t_nodes = list(range(9))\n",
    "phi_nodes = [phi(t)  for t in t_nodes]\n",
    "\n",
    "x_nodes = [cardioid_coord(t)['x'] for t in t_nodes]\n",
    "y_nodes = [cardioid_coord(t)['y'] for t in t_nodes]\n",
    "\n",
    "DataFrame({'t':t_nodes, 'phi':phi_nodes, 'x_t':x_nodes, 'y_t':y_nodes},\n",
    "               columns=['t', 'phi', 'x_t', 'y_t'])"
   ]
  },
  {
   "cell_type": "markdown",
   "metadata": {},
   "source": [
    "## (b)\n",
    "Use cubic spline function coded earlier to construct $S_{\\Delta}(x;t),\\ S_{\\Delta}(y;t)$.\n",
    "\n",
    "In this case, it's natural to choose periodic constrains on the spline functions, for the 1st and 2nd derivative of spline functions at $\\phi=0$ must equal to that at $\\phi=2\\pi$. Under this constrains, however, the earlier code no longer works, because the coefficient matrix is not a three diagonal one. Therefore, I still choose to make constrains on 2nd derivatives.\n",
    "\n",
    "For $S_{\\Delta}(x;t),\\ S''_{\\Delta}(x;t)\\big|_{t=0\\ \\text{or}\\ 8}=x_t''\\big|_{t=0 \\text{or} 8}\\approx 1.2337.\\quad M_0=M_{n=8}=1.2337,\\ \\lambda_0=\\mu_n = 0,\\ d_0=d_n=2M_0=2.4674.$ \n",
    "\n",
    "For $S_{\\Delta}(y;t),\\ S''_{\\Delta}(y;t)\\big|_{t=0\\ \\text{or}\\ 8}=y_t''\\big|_{t=0 \\text{or} 8}\\approx 0.\\quad \\lambda_0=\\mu_n = 0,\\ d_0=d_n=0.$\n",
    "\n"
   ]
  },
  {
   "cell_type": "code",
   "execution_count": 19,
   "metadata": {},
   "outputs": [
    {
     "name": "stdout",
     "output_type": "stream",
     "text": [
      "cubic spline function of x:\n",
      "[ 0 , 1 ]:\n",
      "         3          2\n",
      "-0.2992 t + 0.6169 t - 0.1105 t\n",
      "[ 1 , 2 ]:\n",
      "         3          2\n",
      "-0.1518 t + 0.1745 t + 0.3318 t - 0.1474\n",
      "[ 2 , 3 ]:\n",
      "        3        2\n",
      "0.3206 t - 2.66 t + 6 t - 3.926\n",
      "[ 3 , 4 ]:\n",
      "        3         2\n",
      "0.2837 t - 2.327 t + 5.003 t - 2.93\n",
      "[ 4 , 5 ]:\n",
      "         3         2\n",
      "-0.2837 t + 4.481 t - 22.23 t + 33.38\n",
      "[ 5 , 6 ]:\n",
      "         3         2\n",
      "-0.3206 t + 5.034 t - 25 t + 37.99\n",
      "[ 6 , 7 ]:\n",
      "        3         2\n",
      "0.1518 t - 3.468 t + 26.02 t - 64.04\n",
      "[ 7 , 8 ]:\n",
      "        3         2\n",
      "0.2992 t - 6.565 t + 47.69 t - 114.6\n"
     ]
    }
   ],
   "source": [
    "splines_x = cubic_splines(nodes=[[t, x] for t, x in zip(t_nodes, x_nodes)],\n",
    "                          lam_0=0, mu_n=0, d_0=2.4674, d_n=2.4674)\n",
    "\n",
    "print('cubic spline function of x:')\n",
    "for i in range(len(splines_x)):\n",
    "    print('[', str(t_nodes[i]), ',', str(t_nodes[i+1]),  ']:')\n",
    "    print(np.poly1d(splines_x[i], variable='t'))\n",
    "    "
   ]
  },
  {
   "cell_type": "code",
   "execution_count": 20,
   "metadata": {},
   "outputs": [
    {
     "name": "stdout",
     "output_type": "stream",
     "text": [
      "cubic spline function of y:\n",
      "[ 0 , 1 ]:\n",
      "        3\n",
      "0.1735 t + 0.03361 t\n",
      "[ 1 , 2 ]:\n",
      "         3         2\n",
      "-0.2817 t + 1.366 t - 1.332 t + 0.4552\n",
      "[ 2 , 3 ]:\n",
      "         3          2\n",
      "-0.2183 t + 0.9853 t - 0.5714 t - 0.05185\n",
      "[ 3 , 4 ]:\n",
      "        3         2\n",
      "0.3265 t - 3.918 t + 14.14 t - 14.76\n",
      "[ 4 , 5 ]:\n",
      "        3         2\n",
      "0.3265 t - 3.918 t + 14.14 t - 14.76\n",
      "[ 5 , 6 ]:\n",
      "         3         2\n",
      "-0.2183 t + 4.254 t - 26.72 t + 53.34\n",
      "[ 6 , 7 ]:\n",
      "         3         2\n",
      "-0.2817 t + 5.395 t - 33.57 t + 67.03\n",
      "[ 7 , 8 ]:\n",
      "        3         2\n",
      "0.1735 t - 4.164 t + 33.34 t - 89.1\n"
     ]
    }
   ],
   "source": [
    "splines_y = cubic_splines(nodes=[[t, y] for t, y in zip(t_nodes, y_nodes)],\n",
    "                          lam_0=0, mu_n=0, d_0=0, d_n=0)\n",
    "\n",
    "print('cubic spline function of y:')\n",
    "for i in range(len(splines_y)):\n",
    "    print('[', str(t_nodes[i]), ',', str(t_nodes[i+1]),  ']:')\n",
    "    print(np.poly1d(splines_y[i], variable='t'))"
   ]
  },
  {
   "cell_type": "markdown",
   "metadata": {},
   "source": [
    "## (c)\n",
    "Plot cubic spline function $(x_t, y_t)$ and original Cardioid curve $(x,y)$ together with nodes pointed. Given that the number of nodes is limited, the result turned out to be satisifing!"
   ]
  },
  {
   "cell_type": "code",
   "execution_count": 21,
   "metadata": {},
   "outputs": [
    {
     "data": {
      "text/plain": [
       "<matplotlib.legend.Legend at 0x10e8e5710>"
      ]
     },
     "execution_count": 21,
     "metadata": {},
     "output_type": "execute_result"
    },
    {
     "data": {
      "image/png": "[encoded data removed]",
      "text/plain": [
       "<matplotlib.figure.Figure at 0x11322b518>"
      ]
     },
     "metadata": {},
     "output_type": "display_data"
    }
   ],
   "source": [
    "def cubic_spline_function(t, t_nodes, splines):\n",
    "    return sum([splines[i](t) * ((t >= t_nodes[i]) and (t < t_nodes[i+1]))\n",
    "                for i in range(len(t_nodes)-1)])\n",
    "\n",
    "step_number = 100000\n",
    "# this step number may cost much time, you can diminish it if you don't mind getting worse quanlity\n",
    "t_values = np.linspace(0, 8, step_number)\n",
    "\n",
    "fit_x_values = np.array([])\n",
    "fit_y_values = np.array([])\n",
    "for t in t_values:\n",
    "    x = cubic_spline_function(t, t_nodes, splines_x)\n",
    "    fit_x_values = np.append(fit_x_values, np.linspace(x, x, 1))\n",
    "    y = cubic_spline_function(t, t_nodes, splines_y)\n",
    "    fit_y_values = np.append(fit_y_values, np.linspace(y, y, 1))\n",
    "    \n",
    "plt.plot(fit_x_values, fit_y_values,'b',label='Cubic Spline Function')\n",
    "\n",
    "real_x_values = np.array([])\n",
    "real_y_values = np.array([])\n",
    "for t in t_values:\n",
    "    x = cardioid_coord(t)['x']\n",
    "    real_x_values = np.append(real_x_values, np.linspace(x, x, 1))\n",
    "    y = cardioid_coord(t)['y']\n",
    "    real_y_values = np.append(real_y_values, np.linspace(y, y, 1)) \n",
    "\n",
    "plt.plot(real_x_values, real_y_values,'r',label='Original Cardioid')\n",
    "\n",
    "\n",
    "plt.scatter(x_nodes, y_nodes, color='black', label='Nodes')\n",
    "\n",
    "plt.legend()"
   ]
  },
  {
   "cell_type": "markdown",
   "metadata": {},
   "source": [
    "## (c)\n",
    "The point is that the 1st and 2nd derivatives of $x$ and $y$  with respect to $t$ are continuous along the fitting curve, including the nodes. Therefore, the gradient and curvature are continuous, which gives the fitting curve  a smooth appearance."
   ]
  },
  {
   "cell_type": "markdown",
   "metadata": {},
   "source": [
    "# 3. 含有zeta函数的方程求解\n",
    "## (a)\n",
    "### Analyse the Problem\n",
    "Define $\\overline{\\mathcal{Z}_{00}}(1;q^2)\\big|_{l}$ in the following way. For the second equality sign, we change $t \\rightarrow t^2$ in the first integration to avoid the singularity at $t=0$.\n",
    "\n",
    "$$  \\overline{\\mathcal{Z}_{00}}(1;q^2)\\big|_{l} = - \\pi + \\frac { \\pi } { 2 }  \\int _ { 0 } ^ { 1 } d t \\ t ^ { - 3 / 2 } \\left( e ^ { t q ^ { 2 } } - 1 \\right) + \\frac{1}{\\sqrt{4\\pi}} \\sum _ { \\mathbf { n } \\leq  l } \\frac { e ^ { q ^ { 2 } - \\mathbf { n } ^ { 2 } } } { \\mathbf { n } ^ { 2 } - q ^ { 2 } } + \\pi (1-\\delta_{\\mathbf{n}0}) \\int _ { 0 } ^ { 1 } d t \\ t ^ { - 3 / 2 } e ^ { t q ^ { 2 } } e ^ { - \\left( \\pi ^ { 2 } / t \\right) \\mathbf { n } ^ { 2 } } $$\n",
    "$$ = - \\pi + \\pi \\int _ { 0 } ^ { 1 } d t \\ t ^ { - 2 } \\left( e ^ { t ^ 2 q ^ { 2 } } - 1 \\right) + \\frac{1}{\\sqrt{4\\pi}} \\sum _ { \\mathbf { n } \\leq  l } \\frac { e ^ { q ^ { 2 } - \\mathbf { n } ^ { 2 } } } { \\mathbf { n } ^ { 2 } - q ^ { 2 } } + \\pi (1-\\delta_{\\mathbf{n}0}) \\int _ { 0 } ^ { 1 } d t \\ t ^ { - 3 / 2 } e ^ { t q ^ { 2 } } e ^ { - \\left( \\pi ^ { 2 } / t \\right) \\mathbf { n } ^ { 2 } }$$\n",
    "\n",
    "Here, the notation $\\mathbf { n }  = (n_1, n_2, n_3) \\leq  l$ means $n_i \\leq  l,\\ i=1,2,3$.\n",
    "\n",
    "Naturally, we have:\n",
    "\n",
    "$$  \\overline{\\mathcal{Z}_{00}}(1;q^2)\\big|_{l\\rightarrow \\infty} = \\mathcal{Z}_{00}(1;q^2)$$\n",
    "\n",
    "\n",
    "To work out the problem, we need to compute the change of $\\overline{\\mathcal{Z}_{00}}(1;q^2)$ when you gradully increase the range of (each component of) $\\mathbf{n}$.\n",
    "\n",
    "###  Numerical Integration\n",
    "To compute the integrals in the problem, we build algorithm using Simpson's rule. The parameter \"peices_number\" of it is the number of pieces you divide the whole interval into to later apply Simpson's rule. We use $\\int_{0}^{\\pi/2} sinx\\ dx$ to test our algorithm, and find the result is accurate enough in our problem."
   ]
  },
  {
   "cell_type": "code",
   "execution_count": 22,
   "metadata": {},
   "outputs": [
    {
     "data": {
      "text/plain": [
       "'1.000000000000002e+00'"
      ]
     },
     "execution_count": 22,
     "metadata": {},
     "output_type": "execute_result"
    }
   ],
   "source": [
    "def integration_Simpson(integrand, bounds, pieces_number=1000):\n",
    "    interval = (bounds[1] - bounds[0]) / (2 * pieces_number)\n",
    "    divide_points = np.array([integrand(x) \n",
    "                     for x in np.arange(bounds[0], bounds[1] + interval, interval)])\n",
    "    weights = np.array([1] + [4, 2] * (pieces_number - 1) + [4, 1])\n",
    "    return interval / 3 * sum(divide_points * weights)\n",
    "\n",
    "'%.15e' % integration_Simpson(lambda x: np.sin(x), (0, np.pi / 2))"
   ]
  },
  {
   "cell_type": "markdown",
   "metadata": {},
   "source": [
    "### Computing Zeta Function\n",
    "Construct an algorithm to compute $\\overline{\\mathcal{Z}_{00}}(1;q^2)\\big|_{l}$."
   ]
  },
  {
   "cell_type": "code",
   "execution_count": 23,
   "metadata": {},
   "outputs": [
    {
     "data": {
      "text/plain": [
       "1.3751096028849716"
      ]
     },
     "execution_count": 23,
     "metadata": {},
     "output_type": "execute_result"
    }
   ],
   "source": [
    "def zeta_00_sum_terms(q2, n2_max=150):\n",
    "    sum_terms = {}\n",
    "    for n2 in range(0, n2_max+1):\n",
    "        term = np.exp(q2 - n2) / (n2 - q2 )\n",
    "        if not n2 == 0:\n",
    "            integrand = lambda t: 0 if t==0\\\n",
    "            else t ** (-3/2) * np.exp(t * q2) * np.exp(-np.pi ** 2 / t * n2)\n",
    "            term = term + np.pi * integration_Simpson(integrand, bounds=(0, 1))\n",
    "        term = term / np.sqrt(4 * np.pi)\n",
    "        sum_terms[n2] = term\n",
    "    return sum_terms\n",
    "\n",
    "def zetabar_00(q2, l, s=1):\n",
    "    result = -np.pi\n",
    "    integrand = lambda t: q2 if t==0 else t ** (-2) * (np.exp(t ** 2 * q2) - 1)\n",
    "    result = result + np.pi * integration_Simpson(integrand, bounds=(0, 1))\n",
    "    #print(np.pi * integration_Simpson(integrand, bounds=(0, 1)))\n",
    "    sum_terms = zeta_00_sum_terms(q2, n2_max=3 * l **2)\n",
    "    result = result + sum([sum_terms[n1**2 + n2**2 + n3**2]\n",
    "     for n1 in range(-l, l+1)\n",
    "     for n2 in range(-l, l+1)\n",
    "     for n3 in range(-l, l+1)])\n",
    "    return result\n",
    "\n",
    "zetabar_00(1.5, 5)"
   ]
  },
  {
   "cell_type": "markdown",
   "metadata": {},
   "source": [
    "Compute $\\overline{\\mathcal{Z}_{00}}(1;q^2)\\big|_{l}$ for $q^2=2.9 , 0.1$. "
   ]
  },
  {
   "cell_type": "code",
   "execution_count": 24,
   "metadata": {},
   "outputs": [
    {
     "name": "stdout",
     "output_type": "stream",
     "text": [
      "q^2=2.9\n",
      "l=0 1.34324166161e+01\n",
      "l=1 1.86456165446e+01\n",
      "l=2 1.96575465200e+01\n",
      "l=3 1.96592557848e+01\n",
      "l=4 1.96592565599e+01\n",
      "l=5 1.96592565600e+01\n",
      "l=6 1.96592565600e+01\n",
      "l=7 1.96592565600e+01\n",
      "q^2=0.1\n",
      "l=0 -5.93972038132e+00\n",
      "l=1 -4.86578551506e+00\n",
      "l=2 -4.84330440037e+00\n",
      "l=3 -4.84323045469e+00\n",
      "l=4 -4.84323041542e+00\n",
      "l=5 -4.84323041541e+00\n",
      "l=6 -4.84323041541e+00\n",
      "l=7 -4.84323041541e+00\n"
     ]
    }
   ],
   "source": [
    "print('q^2=2.9')\n",
    "for l in range(8):\n",
    "    print('l=%d' % l, '%.11e' % zetabar_00(2.9, l))\n",
    "\n",
    "print('q^2=0.1')\n",
    "for l in range(8):\n",
    "    print('l=%d' % l, '%.11e' % zetabar_00(0.1, l))"
   ]
  },
  {
   "cell_type": "markdown",
   "metadata": {},
   "source": [
    "### Two Extreme Cases\n",
    "From the results above, we guess that $l=7$ may be enough for 12-digit accuracy in most cases. But before trying on more values of $q^2$, it's necessary to consider two extreme cases.\n",
    "\n",
    "- $q^2$ is very close to the square of an integer. \n",
    "$\\lim\\limits_{q^2 \\to {n^2 \\pm 0}} \\frac { e ^ { q ^ { 2 } - \\mathbf { n } ^ { 2 } } } { \\mathbf { n } ^ { 2 } - q ^ { 2 } } = \\frac { 1 } { \\mp0 } = \\mp \\infty $. Other terms ($\\mathbf{n}\\neq0$) are negligible compared with it. So fewer terms of summation is needed in that case.\n",
    "\n",
    "- $\\mathcal{Z}_{00}(1;q^2) \\approx 0.$\n",
    "Given that $\\lim\\limits_{q^2 \\to {n^2 + 0}} \\frac { e ^ { q ^ { 2 } - \\mathbf { n } ^ { 2 } } } { \\mathbf { n } ^ { 2 } - q ^ { 2 } } = -\\infty $ and $\\lim\\limits_{q^2 \\to {(n+1)^2 - 0}} \\frac { e ^ { q ^ { 2 } - \\mathbf { (n+1) } ^ { 2 } } } { \\mathbf { (n+1) } ^ { 2 } - q ^ { 2 } } = +\\infty $, there must be a zero point in $(n,n+1).$ And the relative error will go to infinity when approaching the zero points. We cannot guarantee any significance digit accuracy as a result.\n",
    "\n",
    "Except the extrme cases, we compute $\\overline{\\mathcal{Z}_{00}}(1;q^2)\\big|_{l}$ for $l=0,2,\\cdots,7$ and for more \"general\" values of $q^2$ to get required $l$ for 6-digit and 12-digit accuracy respectively."
   ]
  },
  {
   "cell_type": "code",
   "execution_count": 25,
   "metadata": {},
   "outputs": [
    {
     "name": "stdout",
     "output_type": "stream",
     "text": [
      "q^2= 0.001\n",
      "six digit: 3\ttwelve digit: 5\n",
      "q^2= 0.999\n",
      "six digit: 3\ttwelve digit: 5\n",
      "q^2= 1.199\n",
      "six digit: 4\ttwelve digit: 6\n",
      "q^2= 1.399\n",
      "six digit: 4\ttwelve digit: 6\n",
      "q^2= 1.5990000000000002\n",
      "six digit: 4\ttwelve digit: 6\n",
      "q^2= 1.7990000000000004\n",
      "six digit: 4\ttwelve digit: 5\n",
      "q^2= 1.9990000000000006\n",
      "six digit: 3\ttwelve digit: 5\n",
      "q^2= 2.1990000000000003\n",
      "six digit: 4\ttwelve digit: 5\n",
      "q^2= 2.3990000000000005\n",
      "six digit: 4\ttwelve digit: 6\n",
      "q^2= 2.5990000000000006\n",
      "six digit: 4\ttwelve digit: 6\n",
      "q^2= 2.799000000000001\n",
      "six digit: 4\ttwelve digit: 6\n",
      "q^2= 2.999000000000001\n",
      "six digit: 3\ttwelve digit: 5\n"
     ]
    }
   ],
   "source": [
    "def accuracy_check(q2):\n",
    "    former, latter = 0, 0\n",
    "    print('q^2=', q2)\n",
    "    six_digit = False\n",
    "    for l in range(8):\n",
    "        latter = zetabar_00(q2, l)\n",
    "        if '%.11e' % former == '%.11e' % latter:\n",
    "            print('twelve digit:', l)\n",
    "            break\n",
    "        elif '%.5e' % former == '%.5e' % latter and not six_digit:\n",
    "            print('six digit:', l , end='\\t')\n",
    "            six_digit = True\n",
    "        former = latter\n",
    "\n",
    "for q2 in [1e-3] + list(np.arange(1-1e-3, 3, 0.2)):\n",
    "    accuracy_check(q2)"
   ]
  },
  {
   "cell_type": "markdown",
   "metadata": {},
   "source": [
    "From the results above, we see that 6-digit accuracy generally requires $l\\geq4$ ($9^3=729$ terms computed) and 12-digit accuracy $l\\geq6$ ($13^3=2197$ terms computed).\n",
    "\n",
    "In later computation, we will choose $l=6$ for both accuracy (except for points near zero points) and economy. "
   ]
  },
  {
   "cell_type": "markdown",
   "metadata": {},
   "source": [
    "## (b)\n",
    "In this section, we want to find the cross point of $S(q^2) = \\pi^{3/2}(\\frac { 1 } { A _ { 0 } } + \\frac { R _ { 0 } } { 2 } q ^ { 2 })$ and $\\mathcal{Z}_{00}(1;q^2)$."
   ]
  },
  {
   "cell_type": "code",
   "execution_count": 26,
   "metadata": {},
   "outputs": [
    {
     "name": "stderr",
     "output_type": "stream",
     "text": [
      "/Library/Frameworks/Python.framework/Versions/3.6/lib/python3.6/site-packages/ipykernel_launcher.py:4: RuntimeWarning: divide by zero encountered in double_scalars\n",
      "  after removing the cwd from sys.path.\n"
     ]
    }
   ],
   "source": [
    "def scatter_expansion(q2):\n",
    "    return (np.pi) ** (3/2) * (1 / 1.0 + 0.5 / 2 * q2)\n",
    "\n",
    "q2_values = np.linspace(0, 1, 50)\n",
    "zeta_values = np.array([zetabar_00(q2, l=6) for q2 in q2_values])\n",
    "expansion_values = np.array([scatter_expansion(q2) for q2 in q2_values])\n",
    "\n",
    "df = DataFrame({'q^2':q2_values, 'Zeta Function Values':zeta_values,\n",
    "                'Scatter Expansion Values':expansion_values},\n",
    "               columns=['q^2', 'Zeta Function Values', 'Scatter Expansion Values'])\n"
   ]
  },
  {
   "cell_type": "markdown",
   "metadata": {},
   "source": [
    "Plot two functions on $(0,1)$. We get the crosspoint at $q^2$ slightly smaller that 1 as told."
   ]
  },
  {
   "cell_type": "code",
   "execution_count": 27,
   "metadata": {},
   "outputs": [
    {
     "data": {
      "text/plain": [
       "<matplotlib.axes._subplots.AxesSubplot at 0x1130f5748>"
      ]
     },
     "execution_count": 27,
     "metadata": {},
     "output_type": "execute_result"
    },
    {
     "data": {
      "image/png": "[encoded data removed]",
      "text/plain": [
       "<matplotlib.figure.Figure at 0x11322b0f0>"
      ]
     },
     "metadata": {},
     "output_type": "display_data"
    }
   ],
   "source": [
    "df.plot.line(x='q^2', y=['Zeta Function Values', 'Scatter Expansion Values'])"
   ]
  },
  {
   "cell_type": "markdown",
   "metadata": {},
   "source": [
    "Zoom in to know the cross point exists near $q^2=0.8$. "
   ]
  },
  {
   "cell_type": "code",
   "execution_count": 28,
   "metadata": {},
   "outputs": [
    {
     "data": {
      "text/plain": [
       "<matplotlib.axes._subplots.AxesSubplot at 0x113332978>"
      ]
     },
     "execution_count": 28,
     "metadata": {},
     "output_type": "execute_result"
    },
    {
     "data": {
      "image/png": "[encoded data removed]",
      "text/plain": [
       "<matplotlib.figure.Figure at 0x112980a90>"
      ]
     },
     "metadata": {},
     "output_type": "display_data"
    }
   ],
   "source": [
    "df.plot.line(x='q^2', y=['Zeta Function Values', 'Scatter Expansion Values'],\n",
    "             xlim=[0.75,0.85], ylim=[5,8])"
   ]
  },
  {
   "cell_type": "markdown",
   "metadata": {},
   "source": [
    "Search it on $[0.78,0.82]$, naively using binary search algorithm. When the binary interval's length is smaller than $0.5\\times10^6$, 6-digit accuracy is supposed to be satisfied."
   ]
  },
  {
   "cell_type": "code",
   "execution_count": 29,
   "metadata": {},
   "outputs": [
    {
     "name": "stdout",
     "output_type": "stream",
     "text": [
      "q^2 = 0.794516\n",
      "Zeta function value = 6.674360222784506\n"
     ]
    }
   ],
   "source": [
    "q2_r, q2_l = 0.82, 0.78\n",
    "while q2_r - q2_l > 5e-7:\n",
    "    q2_m = (q2_r + q2_l) / 2\n",
    "    if zetabar_00(q2_m, l=6) > scatter_expansion(q2_m):\n",
    "        q2_r = q2_m\n",
    "    else:\n",
    "        q2_l = q2_m\n",
    "\n",
    "print('q^2 = %.6f' % q2_m)\n",
    "print('Zeta function value =', zetabar_00(q2_m, l=6))"
   ]
  },
  {
   "cell_type": "markdown",
   "metadata": {},
   "source": [
    "From the above result, we see the solution is not close to zero points. So the $l$ we choose should be safe. And we check the accuray for more safety."
   ]
  },
  {
   "cell_type": "code",
   "execution_count": 30,
   "metadata": {},
   "outputs": [
    {
     "name": "stdout",
     "output_type": "stream",
     "text": [
      "q^2= 0.7945156860351562\n",
      "six digit: 4\ttwelve digit: 5\n"
     ]
    }
   ],
   "source": [
    "accuracy_check(q2_m)"
   ]
  },
  {
   "cell_type": "markdown",
   "metadata": {},
   "source": [
    "In fact, the result is not that accurate, because the scattering expansion is merely 1st order accurate. But the first few digits is trustful at least."
   ]
  }
 ],
 "metadata": {
  "kernelspec": {
   "display_name": "Python 3",
   "language": "python",
   "name": "python3"
  },
  "language_info": {
   "codemirror_mode": {
    "name": "ipython",
    "version": 3
   },
   "file_extension": ".py",
   "mimetype": "text/x-python",
   "name": "python",
   "nbconvert_exporter": "python",
   "pygments_lexer": "ipython3",
   "version": "3.6.3"
  }
 },
 "nbformat": 4,
 "nbformat_minor": 2
}
