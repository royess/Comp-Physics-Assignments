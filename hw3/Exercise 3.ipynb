{
 "cells": [
  {
   "cell_type": "code",
   "execution_count": 1,
   "metadata": {},
   "outputs": [],
   "source": [
    "import numpy as np\n",
    "import pandas as pd\n",
    "from timeit import timeit, repeat\n",
    "import csv\n",
    "import pandas as pd\n",
    "import matplotlib.pyplot as plt\n",
    "from scipy.integrate import quad\n",
    "from scipy.special import gamma\n",
    "from IPython.display import Latex"
   ]
  },
  {
   "cell_type": "markdown",
   "metadata": {},
   "source": [
    "## 1. Compare Householder & Givens in QR decomposition\n",
    "### (a) Complexity Analysis\n",
    "All analysises are based on algorithms in next two sections, so you may read them first.\n",
    "Notation: times of addition and subtraction: \"AS\", times of multiplication and division: \"MD\"."
   ]
  },
  {
   "cell_type": "markdown",
   "metadata": {},
   "source": [
    "**Householder method.**\n",
    "\n",
    "The main contribution to complexity is from the renewing of Q and R.\n",
    "\n",
    "In k-th iteration, you do following computations: (We only consider those contribute to the \"leading term\", which is $O(n^2)$)\n",
    "\n",
    "- renew Q\n",
    "    - <code>Q[:,k:] * v</code> AS and MP: $n(n-k)$.\n",
    "    - <code>[a (n-k)-dim vector] * v.T</code> AS and MP: $(n-k)^2$.\n",
    "    - <code>[a n*(n-k) matrix] * (2 / np.linalg.norm(v) ** 2)</code> MP: $n(n-k)$.\n",
    "    - <code>Q[:,k:] -= [a n*(n-k) matrix]</code> AS: $n(n-k)$.\n",
    "    \n",
    "- renew R\n",
    "    - <code>v.T * R[k:,k:]</code> AS and MP: $(n-k)^2$.\n",
    "    - <code>v * [a (n-k)-dim vector]</code> AS and MP: $(n-k)^2$.\n",
    "    - <code>[a (n-k)*(n-k) matrix] * (2 / np.linalg.norm(v) ** 2)</code> MP: $(n-k)^2$.\n",
    "    - <code>R[k:,k:] -= [a (n-k)*(n-k) matrix]</code> AS: $(n-k)^2$.\n",
    "    \n",
    "In total, AS and MP: $4(n-k)^2+2n(n-k)$. And for all iterations, AS and MP: $\\sum_{k=0}^{n-1}4(n-k)^2+2n(n-k)\\approx\\frac{14}{3}n^3\\approx4.7n^3$, respectively."
   ]
  },
  {
   "cell_type": "markdown",
   "metadata": {},
   "source": [
    "**Givens rotation.**\n",
    "\n",
    "The main contribution to complexity is also from the renewing of Q and R.\n",
    "\n",
    "In the iteration labelled by k, m, you do following computations:\n",
    "\n",
    "- renew Q <code>Q[-(k+2): , n-2-k+m:n-k+m] * GI</code> AS and MP: $4(n-k)$.\n",
    "    \n",
    "- renew R <code>G * R[n-2-k+m:n-k+m , m:]</code> AS and MP: $4(n-m)$.\n",
    "    \n",
    "In total, AS and MP: $4(2n-k-m)$. And for all iterations, AS and MP: $\\sum_{k=0}^{n-1}\\sum_{m=0}^{k+1}\\approx4\\sum_{k=0}^{n-1}2nk-\\frac{3}{2}k^2\\approx2n^3$, respectively."
   ]
  },
  {
   "cell_type": "markdown",
   "metadata": {},
   "source": [
    "### (b) QR decomposition using Householder transformation"
   ]
  },
  {
   "cell_type": "code",
   "execution_count": 2,
   "metadata": {},
   "outputs": [
    {
     "data": {
      "text/plain": [
       "matrix([[-3.],\n",
       "        [ 4.]])"
      ]
     },
     "execution_count": 2,
     "metadata": {},
     "output_type": "execute_result"
    }
   ],
   "source": [
    "def householder_matrix(v):\n",
    "    n = v.shape[0]\n",
    "    P = np.eye(n) - 2 * v * v.T / np.linalg.norm(v) ** 2\n",
    "    return P\n",
    "\n",
    "x = np.array([[3.], [4.]])\n",
    "householder_matrix(np.matrix([[1.], [0.]])) * x"
   ]
  },
  {
   "cell_type": "code",
   "execution_count": 3,
   "metadata": {
    "scrolled": true
   },
   "outputs": [
    {
     "data": {
      "text/plain": [
       "(matrix([[-0.22941573,  0.0742156 ,  0.97049496],\n",
       "         [-0.6882472 ,  0.69267897, -0.21566555],\n",
       "         [-0.6882472 , -0.71741751, -0.10783277]]),\n",
       " matrix([[-4.35889894e+00, -1.00942923e+01, -3.90006748e+00],\n",
       "         [ 4.44089210e-16, -4.25502799e+00,  8.78217985e+00],\n",
       "         [ 4.44089210e-16,  4.44089210e-16,  3.55848152e+00]]),\n",
       " matrix([[ 1.,  2.,  5.],\n",
       "         [ 3.,  4.,  8.],\n",
       "         [ 3., 10., -4.]]))"
      ]
     },
     "execution_count": 3,
     "metadata": {},
     "output_type": "execute_result"
    }
   ],
   "source": [
    "def QR_decomposition_hh(A):\n",
    "    n = A.shape[0]\n",
    "    Q = np.mat(np.eye(n))\n",
    "    R = A.copy()\n",
    "    for k in range(n-1):\n",
    "        R_star = R[k:, k]\n",
    "        v = R_star + np.linalg.norm(R_star) * np.matrix([[1]]+[[0]]*(n-k-1))\n",
    "        \n",
    "        '''\n",
    "        P = householder_matrix(v)\n",
    "        Q[:,k:] = Q[:,k:] * P    \n",
    "        R[k:,:] = P * R[k:,:]\n",
    "        # actually this approach is faster...\n",
    "        # although theriotically it contains more computations\n",
    "        '''\n",
    "        \n",
    "        Q[:,k:] -= (Q[:,k:] * v) * v.T * (2 / np.linalg.norm(v) ** 2)\n",
    "        R[k:,k:] -= v * (v.T * R[k:,k:]) * (2 / np.linalg.norm(v) ** 2)\n",
    "        \n",
    "    return Q, R\n",
    "\n",
    "Q, R = QR_decomposition_hh(np.matrix([[1., 2., 5.],\n",
    "                                      [3., 4., 8.],\n",
    "                                      [3., 10., -4.]]))\n",
    "Q, R, Q * R"
   ]
  },
  {
   "cell_type": "markdown",
   "metadata": {},
   "source": [
    "### (c) QR decomposition using Givens rotation "
   ]
  },
  {
   "cell_type": "code",
   "execution_count": 4,
   "metadata": {},
   "outputs": [
    {
     "data": {
      "text/plain": [
       "(matrix([[ 0.8,  0.6],\n",
       "         [-0.6,  0.8]]), matrix([[ 0.8, -0.6],\n",
       "         [ 0.6,  0.8]]))"
      ]
     },
     "execution_count": 4,
     "metadata": {},
     "output_type": "execute_result"
    }
   ],
   "source": [
    "def givens(s, c):\n",
    "    g = np.matrix([[c, s], [-s, c]])\n",
    "    gi = np.matrix([[c, -s], [s, c]])\n",
    "    return g, gi\n",
    "\n",
    "givens(0.6, 0.8)"
   ]
  },
  {
   "cell_type": "code",
   "execution_count": 5,
   "metadata": {},
   "outputs": [
    {
     "data": {
      "text/plain": [
       "(array([[ 0.22941573, -0.0742156 ,  0.97049496],\n",
       "        [ 0.6882472 , -0.69267897, -0.21566555],\n",
       "        [ 0.6882472 ,  0.71741751, -0.10783277]]),\n",
       " matrix([[ 4.35889894e+00,  1.00942923e+01,  3.90006748e+00],\n",
       "         [-1.01719029e-17,  4.25502799e+00, -8.78217985e+00],\n",
       "         [-1.11022302e-16, -8.28211588e-18,  3.55848152e+00]]),\n",
       " matrix([[ 1.,  2.,  5.],\n",
       "         [ 3.,  4.,  8.],\n",
       "         [ 3., 10., -4.]]))"
      ]
     },
     "execution_count": 5,
     "metadata": {},
     "output_type": "execute_result"
    }
   ],
   "source": [
    "def QR_decomposition_gv(A):\n",
    "    n = A.shape[0]\n",
    "    Q = np.eye(n)\n",
    "    R = A.copy()\n",
    "    for k in range(0, n-1):\n",
    "        for m in range(0, k+1):\n",
    "            x, y = R[n-k-2+m, m], R[n-k-1+m, m]\n",
    "            s, c = y / np.sqrt(x**2 + y**2), x / np.sqrt(x**2 + y**2)\n",
    "            G, GI = givens(s, c)\n",
    "            Q[-(k+2): , n-2-k+m:n-k+m] = Q[-(k+2): , n-2-k+m:n-k+m] * GI\n",
    "            R[n-2-k+m:n-k+m , m:] = G * R[n-2-k+m:n-k+m , m:]\n",
    "    return Q, R\n",
    "\n",
    "Q, R = QR_decomposition_gv(np.matrix([[1., 2., 5.],\n",
    "                                      [3., 4., 8.],\n",
    "                                      [3., 10., -4.]]))\n",
    "Q, R, Q * R"
   ]
  },
  {
   "cell_type": "markdown",
   "metadata": {},
   "source": [
    "### (d) Run time trial"
   ]
  },
  {
   "cell_type": "code",
   "execution_count": 6,
   "metadata": {},
   "outputs": [],
   "source": [
    "test_matrixs = [np.mat(np.random.rand(6,6) * 2 - 1) for i in range(20)]"
   ]
  },
  {
   "cell_type": "markdown",
   "metadata": {},
   "source": [
    "We use Householder method and Givens rotation to decompose the 20 matrixs, measuring the total time cost."
   ]
  },
  {
   "cell_type": "code",
   "execution_count": 7,
   "metadata": {},
   "outputs": [
    {
     "name": "stdout",
     "output_type": "stream",
     "text": [
      "The average time cost of Householder is 10.09 ms.\n"
     ]
    }
   ],
   "source": [
    "def test_under_hh():\n",
    "    for matrix in test_matrixs:\n",
    "        Q, R = QR_decomposition_hh(matrix)\n",
    "\n",
    "t = repeat('test_under_hh()',\n",
    "           setup='from __main__ import test_under_hh',\n",
    "           number=10, repeat=20)\n",
    "\n",
    "print('The average time cost of Householder is',\n",
    "      '%.2f' % (min(t) * 1e2), 'ms.')"
   ]
  },
  {
   "cell_type": "code",
   "execution_count": 8,
   "metadata": {},
   "outputs": [
    {
     "name": "stdout",
     "output_type": "stream",
     "text": [
      "The average time cost of Givens is 11.26 ms.\n"
     ]
    }
   ],
   "source": [
    "def test_under_gv():\n",
    "    for matrix in test_matrixs:\n",
    "        QR_decomposition_gv(matrix)\n",
    "\n",
    "t = repeat('test_under_gv()',\n",
    "           setup='from __main__ import test_under_gv',\n",
    "           number=10, repeat=20)\n",
    "\n",
    "print('The average time cost of Givens is',\n",
    "      '%.2f' % (min(t) * 1e2), 'ms.')"
   ]
  },
  {
   "cell_type": "markdown",
   "metadata": {},
   "source": [
    "The result shows that Householder runs a little faster than Givens, which is inconsistent with theriotical analysis. The reason of it may lay in Python's optimization for vectorization."
   ]
  },
  {
   "cell_type": "markdown",
   "metadata": {},
   "source": [
    " ## 2. Power method\n",
    " ### (a) Eigen value equation\n",
    " Plug trail solution into the equation:\n",
    " $ -\\omega^2 x e^{-i\\omega t} = - A \\cdot x e^{-i\\omega t}.$\n",
    " \n",
    " Simplify:\n",
    " $ \\lambda x = A \\cdot x,\\ \\lambda = \\omega^2.$"
   ]
  },
  {
   "cell_type": "markdown",
   "metadata": {},
   "source": [
    "### (b) Power method\n",
    "**Proof for validity.**\n",
    "\n",
    "Let $q^{(0)}=\\sum_{i=1}^N c_i v_i,\\ v_1\\neq 0$.\n",
    "\n",
    "$q^{(k)} \\propto A\\cdot q^{(k-1)} \\propto A^k\\cdot q^{(0)} = \\sum_{i=1}^N c_i A^k v_i=\n",
    "{\\lambda_1}^k \\left[ c_1 v_1 + \\sum_{i=2}^N c_i (\\frac{\\lambda_i}{\\lambda_1})^k v_i \\right] \\to {\\lambda_1}^k c_1 v_1 \\propto v_1,\\ \\text{w.r.t.}\\ k\\to\\infty.$\n",
    "\n",
    "Because $q^{(k)}$ is normalized, we have: $\\lim_{k\\to\\infty} q^{(k)} = v_1$.\n",
    "\n",
    "Strictly speaking, this limit may not exist, for $q^{(k)}$ can jump between $\\pm v_1$. Here we just make the sign absorbed into $v_1$ to simpfy the expression.\n",
    "\n",
    "And, $\\lim_{k\\to\\infty} \\nu^{(k)} = (v_1)^\\dagger A v_1 = \\lambda_1$."
   ]
  },
  {
   "cell_type": "markdown",
   "metadata": {},
   "source": [
    "**Codes.**\n",
    "\n",
    "For initialization, we set $q^{(0)}$ as a random but normalized vector. Unless we are extremely \"lucky\", $q^{(0)}$ will have a non-zero component in direction $v_1$. (If zero component do appear, maybe you should buy a lottery ticket or something before running it again.)"
   ]
  },
  {
   "cell_type": "code",
   "execution_count": 9,
   "metadata": {},
   "outputs": [
    {
     "name": "stdout",
     "output_type": "stream",
     "text": [
      "eigvalue: 7.0\n",
      "eigvector:\n",
      " [[7.07106781e-01]\n",
      " [7.07106781e-01]\n",
      " [1.84885382e-14]\n",
      " [2.38971432e-14]]\n"
     ]
    }
   ],
   "source": [
    "def power_method(A, allowance=1e-12):\n",
    "    N = A.shape[0]\n",
    "    q = np.matrix([[(np.random.rand())] for i in range(N)])\n",
    "    q = q / np.linalg.norm(q)\n",
    "    stop = False\n",
    "    while not stop :\n",
    "        z = A * q\n",
    "        q_former = q\n",
    "        q = z / np.linalg.norm(z)\n",
    "        nu = q.H * A * q\n",
    "        nu = nu[0,0]\n",
    "        stop = (np.linalg.norm(q - q_former) < allowance)\\\n",
    "        or (np.linalg.norm(q + q_former) < allowance) # in case q jump between pm v_1\n",
    "    return nu, q\n",
    "\n",
    "eigvalue, eigvector = power_method(np.matrix([[4,3,0,0],\n",
    "                                              [3,4,0,0],\n",
    "                                              [0,0,1,0],\n",
    "                                              [0,0,0,1]]))\n",
    "\n",
    "print('eigvalue:', eigvalue)\n",
    "print('eigvector:\\n', eigvector)"
   ]
  },
  {
   "cell_type": "code",
   "execution_count": 10,
   "metadata": {},
   "outputs": [
    {
     "data": {
      "text/plain": [
       "matrix([[-2,  1,  0,  0,  0,  0,  0,  0,  0,  1],\n",
       "        [ 1, -2,  1,  0,  0,  0,  0,  0,  0,  0],\n",
       "        [ 0,  1, -2,  1,  0,  0,  0,  0,  0,  0],\n",
       "        [ 0,  0,  1, -2,  1,  0,  0,  0,  0,  0],\n",
       "        [ 0,  0,  0,  1, -2,  1,  0,  0,  0,  0],\n",
       "        [ 0,  0,  0,  0,  1, -2,  1,  0,  0,  0],\n",
       "        [ 0,  0,  0,  0,  0,  1, -2,  1,  0,  0],\n",
       "        [ 0,  0,  0,  0,  0,  0,  1, -2,  1,  0],\n",
       "        [ 0,  0,  0,  0,  0,  0,  0,  1, -2,  1],\n",
       "        [ 1,  0,  0,  0,  0,  0,  0,  0,  1, -2]])"
      ]
     },
     "execution_count": 10,
     "metadata": {},
     "output_type": "execute_result"
    }
   ],
   "source": [
    "minusA = np.matrix([[((i-1-j)%10==0)\n",
    "                     + ((i+1-j)%10==0)\n",
    "                     - 2 * ((i-j)%10==0)\n",
    "                     for i in range(10)] for j in range(10)])\n",
    "minusA"
   ]
  },
  {
   "cell_type": "code",
   "execution_count": 11,
   "metadata": {},
   "outputs": [
    {
     "name": "stdout",
     "output_type": "stream",
     "text": [
      "eigvalue: -4.0\n",
      "eigvector:\n",
      " [[ 0.31622777]\n",
      " [-0.31622777]\n",
      " [ 0.31622777]\n",
      " [-0.31622777]\n",
      " [ 0.31622777]\n",
      " [-0.31622777]\n",
      " [ 0.31622777]\n",
      " [-0.31622777]\n",
      " [ 0.31622777]\n",
      " [-0.31622777]]\n"
     ]
    }
   ],
   "source": [
    "eigvalue, eigvector = power_method(minusA)\n",
    "print('eigvalue:', eigvalue)\n",
    "print('eigvector:\\n', eigvector)"
   ]
  },
  {
   "cell_type": "markdown",
   "metadata": {},
   "source": [
    "Compare the result with that given by \"np.linalg.eig\". Our result is good!"
   ]
  },
  {
   "cell_type": "code",
   "execution_count": 12,
   "metadata": {},
   "outputs": [
    {
     "name": "stdout",
     "output_type": "stream",
     "text": [
      "eigvalue: -3.9999999999999973\n",
      "eigvector:\n",
      " [[-0.31622777]\n",
      " [ 0.31622777]\n",
      " [-0.31622777]\n",
      " [ 0.31622777]\n",
      " [-0.31622777]\n",
      " [ 0.31622777]\n",
      " [-0.31622777]\n",
      " [ 0.31622777]\n",
      " [-0.31622777]\n",
      " [ 0.31622777]]\n"
     ]
    }
   ],
   "source": [
    "print('eigvalue:', np.linalg.eig(minusA)[0][0])\n",
    "print('eigvector:\\n', np.linalg.eig(minusA)[1][:,0])"
   ]
  },
  {
   "cell_type": "markdown",
   "metadata": {},
   "source": [
    "## 3. Data processing"
   ]
  },
  {
   "cell_type": "markdown",
   "metadata": {},
   "source": [
    "Load the data into a dataframe, the i-th row, t-th column of which stores $C^{(i)}(t)$."
   ]
  },
  {
   "cell_type": "code",
   "execution_count": 13,
   "metadata": {},
   "outputs": [
    {
     "name": "stdout",
     "output_type": "stream",
     "text": [
      "./data/data/traj_1060_pion.txt is empty.\n",
      "./data/data/traj_1070_pion.txt is empty.\n",
      "./data/data/traj_1160_pion.txt is empty.\n",
      "./data/data/traj_1220_pion.txt is empty.\n",
      "./data/data/traj_1310_pion.txt is empty.\n",
      "./data/data/traj_1480_pion.txt is empty.\n",
      "./data/data/traj_1540_pion.txt is empty.\n",
      "./data/data/traj_1780_pion.txt is empty.\n",
      "./data/data/traj_1840_pion.txt is empty.\n",
      "./data/data/traj_2180_pion.txt is empty.\n",
      "./data/data/traj_2350_pion.txt is empty.\n",
      "./data/data/traj_2450_pion.txt is empty.\n",
      "./data/data/traj_2510_pion.txt is empty.\n",
      "./data/data/traj_2660_pion.txt is empty.\n",
      "./data/data/traj_2750_pion.txt is empty.\n",
      "./data/data/traj_2820_pion.txt is empty.\n",
      "./data/data/traj_2900_pion.txt is empty.\n",
      "./data/data/traj_2980_pion.txt is empty.\n",
      "./data/data/traj_3050_pion.txt is empty.\n",
      "./data/data/traj_3150_pion.txt is empty.\n"
     ]
    }
   ],
   "source": [
    "df= pd.DataFrame(None, columns=list(range(32)))\n",
    "\n",
    "for i in range(1000, 3190+1, 10):\n",
    "    with open('./data/data/traj_' + str(i) + '_pion.txt')as csvfile:\n",
    "        try:\n",
    "            reader = csv.reader(csvfile, delimiter=' ')\n",
    "            C_t = [[float(row[2]) for row in reader]]\n",
    "            new_df = pd.DataFrame(C_t, columns=list(range(32)))\n",
    "            df = df.append(new_df, ignore_index=True)\n",
    "        except:\n",
    "            print('./data/data/traj_' + str(i) + '_pion.txt is empty.')\n",
    "            "
   ]
  },
  {
   "cell_type": "markdown",
   "metadata": {},
   "source": [
    "### (a) Statics of $C(t)$.\n",
    "Compute $\\bar{C}(t)$."
   ]
  },
  {
   "cell_type": "code",
   "execution_count": 14,
   "metadata": {},
   "outputs": [],
   "source": [
    "C_mean = df.mean(axis=0)"
   ]
  },
  {
   "cell_type": "markdown",
   "metadata": {},
   "source": [
    "Compute $\\Delta C(t) = \\sqrt { \\frac { 1 } { 200 \\cdot 199 } \\sum _ { i = 0 } ^ { 199 } \\left( C ^ { (i) }(t)  - \\overline { C(t) } \\right) ^ { 2 } }$ as percentages. We can see noise-signal ratio gets larger with increasing $t$, but still much less than 1. Thus, we will take $t_0=N_t/2-1$ in next section."
   ]
  },
  {
   "cell_type": "code",
   "execution_count": 15,
   "metadata": {},
   "outputs": [],
   "source": [
    "C_variance = np.sqrt((pow(df - C_mean, 2)).sum(axis=0)\n",
    "                     / 200 / 199)\n",
    "C_corrvariance = C_variance / df.mean(axis=0) * 100"
   ]
  },
  {
   "cell_type": "code",
   "execution_count": 16,
   "metadata": {},
   "outputs": [
    {
     "data": {
      "text/plain": [
       "<matplotlib.axes._subplots.AxesSubplot at 0x113a6f198>"
      ]
     },
     "execution_count": 16,
     "metadata": {},
     "output_type": "execute_result"
    },
    {
     "data": {
      "image/png": "[encoded data removed]",
      "text/plain": [
       "<matplotlib.figure.Figure at 0x113a50b38>"
      ]
     },
     "metadata": {},
     "output_type": "display_data"
    }
   ],
   "source": [
    "C_corrvariance.plot.line()"
   ]
  },
  {
   "cell_type": "markdown",
   "metadata": {},
   "source": [
    "From the graph, we can assume $\\frac{\\Delta C(t)}{\\bar{C}(t)}$ is approximately a quadratic function of $t$. And do fitting."
   ]
  },
  {
   "cell_type": "code",
   "execution_count": 17,
   "metadata": {},
   "outputs": [
    {
     "name": "stdout",
     "output_type": "stream",
     "text": [
      "          2\n",
      "0.002263 x + 0.01321 x + 0.5904\n"
     ]
    }
   ],
   "source": [
    "fit_function = np.poly1d(np.polyfit(list(range(32)),\n",
    "                                    list(C_corrvariance), 2))\n",
    "print(fit_function)"
   ]
  },
  {
   "cell_type": "markdown",
   "metadata": {},
   "source": [
    "The following graph shows that it fits well."
   ]
  },
  {
   "cell_type": "code",
   "execution_count": 18,
   "metadata": {},
   "outputs": [
    {
     "data": {
      "text/plain": [
       "<matplotlib.legend.Legend at 0x113bd05c0>"
      ]
     },
     "execution_count": 18,
     "metadata": {},
     "output_type": "execute_result"
    },
    {
     "data": {
      "image/png": "[encoded data removed]",
      "text/plain": [
       "<matplotlib.figure.Figure at 0x113b847f0>"
      ]
     },
     "metadata": {},
     "output_type": "display_data"
    }
   ],
   "source": [
    "x = np.linspace(0, 31, 100)\n",
    "plt.plot(x, fit_function(x), label='quadratic')\n",
    "C_corrvariance.plot.line(label='real value')\n",
    "plt.legend()"
   ]
  },
  {
   "cell_type": "markdown",
   "metadata": {},
   "source": [
    "### (b) Construct $m_{eff}(t)$.\n",
    "\n",
    "Compute $m_{eff}(t)$ according to the formula."
   ]
  },
  {
   "cell_type": "code",
   "execution_count": 19,
   "metadata": {},
   "outputs": [
    {
     "data": {
      "text/plain": [
       "<matplotlib.collections.PathCollection at 0x113cdde10>"
      ]
     },
     "execution_count": 19,
     "metadata": {},
     "output_type": "execute_result"
    },
    {
     "data": {
      "image/png": "[encoded data removed]",
      "text/plain": [
       "<matplotlib.figure.Figure at 0x113b98eb8>"
      ]
     },
     "metadata": {},
     "output_type": "display_data"
    }
   ],
   "source": [
    "m_eff_values = pd.Series([np.log(C_mean[t] / C_mean[t+1]) for t in range(31)])\n",
    "plt.scatter(range(31), m_eff_values)"
   ]
  },
  {
   "cell_type": "markdown",
   "metadata": {},
   "source": [
    "Use Jackknife to get $\\Delta m(t)$."
   ]
  },
  {
   "cell_type": "code",
   "execution_count": 20,
   "metadata": {},
   "outputs": [],
   "source": [
    "elim_C_means = dict()\n",
    "\n",
    "for t in range(32):\n",
    "    C_t_sum = sum(df[t])\n",
    "    elim_C_t_means = [(C_t_sum - float(df.loc[i, [t]])) / 199\n",
    "                      for i in range(200)]\n",
    "    #print('elim_C_' + str(t) + '_means is computed.')\n",
    "    elim_C_means[t] = np.array(elim_C_t_means)"
   ]
  },
  {
   "cell_type": "code",
   "execution_count": 21,
   "metadata": {},
   "outputs": [],
   "source": [
    "elim_m_eff = np.array([np.log(elim_C_means[t] / elim_C_means[t+1]) \n",
    "                       for t in range(31)])\n",
    "\n",
    "m_eff_error = np.array([np.sqrt(199 / 200\n",
    "                                * sum((elim_m_eff[t] - m_eff_values[t]) ** 2))\n",
    "                        for t in range(31)])"
   ]
  },
  {
   "cell_type": "code",
   "execution_count": 22,
   "metadata": {},
   "outputs": [
    {
     "data": {
      "text/plain": [
       "(0, 0.005)"
      ]
     },
     "execution_count": 22,
     "metadata": {},
     "output_type": "execute_result"
    },
    {
     "data": {
      "image/png": "[encoded data removed]",
      "text/plain": [
       "<matplotlib.figure.Figure at 0x113cddd30>"
      ]
     },
     "metadata": {},
     "output_type": "display_data"
    }
   ],
   "source": [
    "plt.scatter(range(31), pd.Series(m_eff_error))\n",
    "plt.ylim(0, 5e-3)"
   ]
  },
  {
   "cell_type": "markdown",
   "metadata": {},
   "source": [
    "### (c) $\\chi^2$ fit $m$."
   ]
  },
  {
   "cell_type": "markdown",
   "metadata": {},
   "source": [
    "Algorithm to find $\\min{\\chi^2}\\big|_{t_{min}, t_{max}}$, given $t_{min}, t_{max}$."
   ]
  },
  {
   "cell_type": "code",
   "execution_count": 23,
   "metadata": {},
   "outputs": [
    {
     "data": {
      "text/plain": [
       "(2.2873021154577824, 0.24311395394571522)"
      ]
     },
     "execution_count": 23,
     "metadata": {},
     "output_type": "execute_result"
    }
   ],
   "source": [
    "def min_square_chi(t_min, t_max):\n",
    "    m = (sum(m_eff_values[t_min : t_max+1]\n",
    "             / m_eff_error[t_min : t_max+1] ** 2)\n",
    "         / sum(1 / m_eff_error[t_min : t_max+1] ** 2))\n",
    "    square_chi = sum(((m_eff_values[t_min : t_max+1] - m)\n",
    "                      / m_eff_error[t_min : t_max+1]) ** 2)\n",
    "    return square_chi, m\n",
    "\n",
    "min_square_chi(6, 10)"
   ]
  },
  {
   "cell_type": "markdown",
   "metadata": {},
   "source": [
    "Find $t_{min}, t_{max}$ to minimize $\\min{\\chi^2}\\big|_{t_{min}, t_{max}}$."
   ]
  },
  {
   "cell_type": "code",
   "execution_count": 24,
   "metadata": {
    "scrolled": true
   },
   "outputs": [
    {
     "name": "stdout",
     "output_type": "stream",
     "text": [
      "t_min_fit= 12\n",
      "t_max_fit= 15\n",
      "square_chi_fit= 0.2987680410979604\n",
      "m_fit= 0.2433163107965347\n"
     ]
    }
   ],
   "source": [
    "square_chi_fit, m_fit = 0, 0\n",
    "t_min_fit, t_max_fit = 0, 0\n",
    "min_divided_square_chi = np.inf\n",
    "\n",
    "for t_min in range(0, 29):\n",
    "    for t_max in range(t_min+3, 32):\n",
    "        d = t_max - t_min\n",
    "        current_square_chi, current_m = min_square_chi(t_min, t_max)\n",
    "        if current_square_chi / d < min_divided_square_chi:\n",
    "            min_divided_square_chi = current_square_chi / d\n",
    "            square_chi_fit, m_fit = current_square_chi, current_m\n",
    "            t_min_fit, t_max_fit = t_min, t_max\n",
    "\n",
    "print('t_min_fit=', t_min_fit)\n",
    "print('t_max_fit=', t_max_fit)\n",
    "print('square_chi_fit=', square_chi_fit)\n",
    "print('m_fit=', m_fit)"
   ]
  },
  {
   "cell_type": "code",
   "execution_count": 25,
   "metadata": {},
   "outputs": [
    {
     "data": {
      "text/latex": [
       "$m\\pm\\delta m = 0.24332\\pm0.00077$"
      ],
      "text/plain": [
       "<IPython.core.display.Latex object>"
      ]
     },
     "execution_count": 25,
     "metadata": {},
     "output_type": "execute_result"
    }
   ],
   "source": [
    "m_fit_error = 1\\\n",
    "/ np.sqrt(sum(1 / m_eff_error[t_min_fit : t_max_fit+1] ** 2))\n",
    "\n",
    "Latex(r'$m\\pm\\delta m = %.5f\\pm%.5f$' % (m_fit, m_fit_error))"
   ]
  },
  {
   "cell_type": "code",
   "execution_count": 26,
   "metadata": {
    "scrolled": true
   },
   "outputs": [
    {
     "data": {
      "text/plain": [
       "[<matplotlib.lines.Line2D at 0x1140ca208>]"
      ]
     },
     "execution_count": 26,
     "metadata": {},
     "output_type": "execute_result"
    },
    {
     "data": {
      "image/png": "[encoded data removed]",
      "text/plain": [
       "<matplotlib.figure.Figure at 0x113fac198>"
      ]
     },
     "metadata": {},
     "output_type": "display_data"
    }
   ],
   "source": [
    "m_eff = pd.Series([np.log(C_mean[t] / C_mean[t+1])\n",
    "                   for t in range(31)])\n",
    "plt.scatter(range(31), m_eff)\n",
    "plt.plot([0, 31], [m_fit+m_fit_error]*2, color='pink')\n",
    "plt.plot([0, 31], [m_fit-m_fit_error]*2, color='pink')\n",
    "plt.plot([0, 31], [m_fit]*2, color='r')\n",
    "plt.plot([t_min_fit]*2, [0.18, 0.30], color='g')\n",
    "plt.plot([t_max_fit]*2, [0.18, 0.30], color='g')"
   ]
  },
  {
   "cell_type": "code",
   "execution_count": 27,
   "metadata": {},
   "outputs": [
    {
     "data": {
      "text/plain": [
       "(0.24176662065865026, 0.24486600093441915)"
      ]
     },
     "execution_count": 27,
     "metadata": {},
     "output_type": "execute_result"
    },
    {
     "data": {
      "image/png": "[encoded data removed]",
      "text/plain": [
       "<matplotlib.figure.Figure at 0x113b9f978>"
      ]
     },
     "metadata": {},
     "output_type": "display_data"
    }
   ],
   "source": [
    "plt.scatter(range(31), m_eff)\n",
    "plt.plot([0, 31], [m_fit]*2, color='r')\n",
    "plt.plot([0, 31], [m_fit+m_fit_error]*2, color='pink')\n",
    "plt.plot([0, 31], [m_fit-m_fit_error]*2, color='pink')\n",
    "plt.plot([t_min_fit]*2, [m_fit - 2*m_fit_error, m_fit + 2*m_fit_error], color='g')\n",
    "plt.plot([t_max_fit]*2, [m_fit - 2*m_fit_error, m_fit + 2*m_fit_error], color='g')\n",
    "plt.ylim(m_fit - 2*m_fit_error, m_fit + 2*m_fit_error)"
   ]
  },
  {
   "cell_type": "markdown",
   "metadata": {},
   "source": [
    "Compute p-value."
   ]
  },
  {
   "cell_type": "code",
   "execution_count": 28,
   "metadata": {},
   "outputs": [
    {
     "data": {
      "text/latex": [
       "$P=0.0397$"
      ],
      "text/plain": [
       "<IPython.core.display.Latex object>"
      ]
     },
     "execution_count": 28,
     "metadata": {},
     "output_type": "execute_result"
    }
   ],
   "source": [
    "p = 1 - (1 / gamma(3/2)) * quad(lambda t: np.exp(-t) * pow(t, 1/2),\n",
    "                                square_chi_fit / 2, np.inf)[0]\n",
    "Latex(r'$P=%.4f$' % p)"
   ]
  },
  {
   "cell_type": "markdown",
   "metadata": {},
   "source": [
    "### (d) $\\chi^2$ fit $\\tilde{m}$.\n",
    "\n",
    "$\\tilde{m}_{eff}(t=1)$ is pure imaginary. So $t$ start from $2$."
   ]
  },
  {
   "cell_type": "code",
   "execution_count": 29,
   "metadata": {},
   "outputs": [
    {
     "data": {
      "text/plain": [
       "<matplotlib.collections.PathCollection at 0x1141ad5f8>"
      ]
     },
     "execution_count": 29,
     "metadata": {},
     "output_type": "execute_result"
    },
    {
     "data": {
      "image/png": "[encoded data removed]",
      "text/plain": [
       "<matplotlib.figure.Figure at 0x113fea0b8>"
      ]
     },
     "metadata": {},
     "output_type": "display_data"
    }
   ],
   "source": [
    "m_eff_wave = pd.Series([np.nan]*2\n",
    "                       + [np.arccosh((C_mean[t+1] + C_mean[t-1])\n",
    "                                     / 2 / C_mean[t])\n",
    "                        for t in range(2, 31)])\n",
    "plt.scatter(range(31), m_eff_wave)"
   ]
  },
  {
   "cell_type": "code",
   "execution_count": 30,
   "metadata": {},
   "outputs": [
    {
     "data": {
      "text/plain": [
       "array([       nan,        nan, 0.00300393, 0.00341165, 0.00347849,\n",
       "       0.00327695, 0.00390736, 0.00373815, 0.0034596 , 0.00362766,\n",
       "       0.00406958, 0.00366334, 0.00360251, 0.00371569, 0.00335503,\n",
       "       0.00385881, 0.00405461, 0.00390396, 0.00360781, 0.00403982,\n",
       "       0.00364246, 0.0037553 , 0.00427342, 0.00452456, 0.00360195,\n",
       "       0.00406191, 0.00367437, 0.00453883, 0.00385287, 0.00388379,\n",
       "       0.00385959])"
      ]
     },
     "execution_count": 30,
     "metadata": {},
     "output_type": "execute_result"
    }
   ],
   "source": [
    "elim_m_eff_wave = np.array(np.r_[[np.nan] * np.ones([2, 200]),\n",
    "                           [np.arccosh((elim_C_means[t+1]\n",
    "                                        + elim_C_means[t-1])\n",
    "                                       / 2 / elim_C_means[t])\n",
    "                           for t in range(2, 31)]])\n",
    "\n",
    "\n",
    "m_eff_wave_error = np.array([np.sqrt(199 / 200 \n",
    "                                     * sum((elim_m_eff_wave[i]\n",
    "                                            - m_eff_wave[i]) ** 2))\n",
    "                        for i in range(31)])\n",
    "\n",
    "m_eff_wave_error"
   ]
  },
  {
   "cell_type": "code",
   "execution_count": 31,
   "metadata": {},
   "outputs": [
    {
     "data": {
      "text/plain": [
       "(0, 0.01979217814390574)"
      ]
     },
     "execution_count": 31,
     "metadata": {},
     "output_type": "execute_result"
    },
    {
     "data": {
      "image/png": "[encoded data removed]",
      "text/plain": [
       "<matplotlib.figure.Figure at 0x1141b9780>"
      ]
     },
     "metadata": {},
     "output_type": "display_data"
    }
   ],
   "source": [
    "plt.scatter(range(31), pd.Series(m_eff_wave_error))\n",
    "plt.ylim(0)"
   ]
  },
  {
   "cell_type": "markdown",
   "metadata": {},
   "source": [
    "Do the same thing in section (c)."
   ]
  },
  {
   "cell_type": "code",
   "execution_count": 32,
   "metadata": {},
   "outputs": [
    {
     "data": {
      "text/plain": [
       "(2.0290706797631874, 0.24333829136693813)"
      ]
     },
     "execution_count": 32,
     "metadata": {},
     "output_type": "execute_result"
    }
   ],
   "source": [
    "def min_square_chi_wave(t_min, t_max):\n",
    "    m = (sum(m_eff_wave[t_min : t_max+1]\n",
    "             / m_eff_wave_error[t_min : t_max+1] ** 2)\n",
    "         / sum(1 / m_eff_wave_error[t_min : t_max+1] ** 2))\n",
    "    square_chi = sum(((m_eff_wave[t_min : t_max+1] - m)\n",
    "                      / m_eff_wave_error[t_min : t_max+1]) ** 2)\n",
    "    return square_chi, m\n",
    "\n",
    "min_square_chi_wave(6, 10)"
   ]
  },
  {
   "cell_type": "code",
   "execution_count": 33,
   "metadata": {},
   "outputs": [
    {
     "name": "stdout",
     "output_type": "stream",
     "text": [
      "t_min_wave_fit= 6\n",
      "t_max_wave_fit= 9\n",
      "square_chi_wave_fit= 0.44663660415391415\n",
      "m_wave_fit= 0.24428825032326718\n"
     ]
    }
   ],
   "source": [
    "square_chi_wave_fit, m_eff_wave_fit = 0, 0\n",
    "t_min_wave_fit, t_max_wave_fit = 0, 0\n",
    "min_divided_square_chi = float('inf')\n",
    "\n",
    "for t_min in range(2, 28):\n",
    "    for t_max in range(t_min+3, 31):\n",
    "        d = t_max - t_min\n",
    "        current_square_chi, current_m = min_square_chi_wave(t_min, t_max)\n",
    "        if current_square_chi / d < min_divided_square_chi:\n",
    "            min_divided_square_chi = current_square_chi / d\n",
    "            square_chi_wave_fit, m_wave_fit = current_square_chi, current_m\n",
    "            t_min_wave_fit, t_max_wave_fit = t_min, t_max\n",
    "\n",
    "print('t_min_wave_fit=', t_min_wave_fit)\n",
    "print('t_max_wave_fit=', t_max_wave_fit)\n",
    "print('square_chi_wave_fit=', square_chi_wave_fit)\n",
    "print('m_wave_fit=', m_wave_fit)"
   ]
  },
  {
   "cell_type": "code",
   "execution_count": 34,
   "metadata": {},
   "outputs": [
    {
     "data": {
      "text/latex": [
       "$\\tilde{m} \\pm \\delta\\tilde{m} = 0.24429\\pm0.00184$"
      ],
      "text/plain": [
       "<IPython.core.display.Latex object>"
      ]
     },
     "execution_count": 34,
     "metadata": {},
     "output_type": "execute_result"
    }
   ],
   "source": [
    "m_wave_fit_error = 1\\\n",
    "/ np.sqrt(sum(1 / m_eff_wave_error[t_min_wave_fit : t_max_wave_fit+1] ** 2))\n",
    "\n",
    "Latex(r'$\\tilde{m} \\pm \\delta\\tilde{m} = %.5f\\pm%.5f$'\n",
    "      % (m_wave_fit, m_wave_fit_error))"
   ]
  },
  {
   "cell_type": "code",
   "execution_count": 35,
   "metadata": {
    "scrolled": true
   },
   "outputs": [
    {
     "data": {
      "text/plain": [
       "[<matplotlib.lines.Line2D at 0x1143a04a8>]"
      ]
     },
     "execution_count": 35,
     "metadata": {},
     "output_type": "execute_result"
    },
    {
     "data": {
      "image/png": "[encoded data removed]",
      "text/plain": [
       "<matplotlib.figure.Figure at 0x1141db470>"
      ]
     },
     "metadata": {},
     "output_type": "display_data"
    }
   ],
   "source": [
    "plt.scatter(range(31), m_eff_wave)\n",
    "plt.plot([0, 31], [m_wave_fit]*2, color='r')\n",
    "plt.plot([t_min_wave_fit]*2, [0.18, 0.30], color='g')\n",
    "plt.plot([t_max_wave_fit]*2, [0.18, 0.30], color='g')"
   ]
  },
  {
   "cell_type": "code",
   "execution_count": 36,
   "metadata": {},
   "outputs": [
    {
     "data": {
      "text/plain": [
       "(0.24061589917036189, 0.24796060147617247)"
      ]
     },
     "execution_count": 36,
     "metadata": {},
     "output_type": "execute_result"
    },
    {
     "data": {
      "image/png": "[encoded data removed]",
      "text/plain": [
       "<matplotlib.figure.Figure at 0x1143b98d0>"
      ]
     },
     "metadata": {},
     "output_type": "display_data"
    }
   ],
   "source": [
    "plt.scatter(range(31), m_eff_wave)\n",
    "plt.plot([0, 31], [m_wave_fit]*2, color='r')\n",
    "plt.plot([0, 31], [m_wave_fit+m_wave_fit_error]*2, color='pink')\n",
    "plt.plot([0, 31], [m_wave_fit-m_wave_fit_error]*2, color='pink')\n",
    "plt.plot([t_min_wave_fit]*2, [m_wave_fit  - 2*m_wave_fit_error,\n",
    "                              m_wave_fit + 2*m_wave_fit_error], color='g')\n",
    "plt.plot([t_max_wave_fit]*2, [m_wave_fit - 2*m_wave_fit_error,\n",
    "                              m_wave_fit + 2*m_wave_fit_error], color='g')\n",
    "plt.ylim(m_wave_fit - 2*m_wave_fit_error,\n",
    "        m_wave_fit + 2*m_wave_fit_error)"
   ]
  },
  {
   "cell_type": "code",
   "execution_count": 37,
   "metadata": {
    "scrolled": true
   },
   "outputs": [
    {
     "data": {
      "text/latex": [
       "$P=0.0696$"
      ],
      "text/plain": [
       "<IPython.core.display.Latex object>"
      ]
     },
     "execution_count": 37,
     "metadata": {},
     "output_type": "execute_result"
    }
   ],
   "source": [
    "p = 1 - (1 / gamma(3/2)) * quad(lambda t: np.exp(-t) * pow(t, 1/2),\n",
    "       square_chi_wave_fit / 2, np.inf)[0]\n",
    "\n",
    "Latex(r'$P=%.4f$' % p)"
   ]
  },
  {
   "cell_type": "markdown",
   "metadata": {},
   "source": [
    "### (e) correlation matrix\n",
    "\n",
    "Construct covariance matrix given a dataframe."
   ]
  },
  {
   "cell_type": "code",
   "execution_count": 38,
   "metadata": {},
   "outputs": [],
   "source": [
    "def covariance_matrix(df):\n",
    "    mean_values = df.mean(axis=0)\n",
    "    return (np.matrix((df - mean_values)).T\n",
    "            * np.matrix(df - mean_values) /\n",
    "            (df.shape[0] - 1))"
   ]
  },
  {
   "cell_type": "markdown",
   "metadata": {},
   "source": [
    "Construct 1000 bootstrap samples as dataframes and compute their $\\rho_{3,4}$ and $\\rho_{3,5}$. It'll cost a little bit long time."
   ]
  },
  {
   "cell_type": "code",
   "execution_count": 39,
   "metadata": {},
   "outputs": [
    {
     "name": "stdout",
     "output_type": "stream",
     "text": [
      "times: 0 bootstrap done.\n",
      "times: 100 bootstrap done.\n",
      "times: 200 bootstrap done.\n",
      "times: 300 bootstrap done.\n",
      "times: 400 bootstrap done.\n",
      "times: 500 bootstrap done.\n",
      "times: 600 bootstrap done.\n",
      "times: 700 bootstrap done.\n",
      "times: 800 bootstrap done.\n",
      "times: 900 bootstrap done.\n"
     ]
    }
   ],
   "source": [
    "bootstrap_rou34 = []\n",
    "bootstrap_rou35 = []\n",
    "\n",
    "for times in range(1000):\n",
    "    bootstrap_df = pd.DataFrame(None, columns=list(range(32)))\n",
    "    for i in np.random.randint(0, 200, 200):\n",
    "        bootstrap_df = bootstrap_df.append(df.loc[i])\n",
    "    cm = covariance_matrix(bootstrap_df)\n",
    "    bootstrap_rou34.append(cm[3, 4] / np.sqrt(cm[3, 3] * cm[4, 4]))\n",
    "    bootstrap_rou35.append(cm[3, 5] / np.sqrt(cm[3, 3] * cm[5, 5]))\n",
    "    if times % 100 == 0:\n",
    "        print('times:', times, 'bootstrap done.')"
   ]
  },
  {
   "cell_type": "markdown",
   "metadata": {},
   "source": [
    "Compute center value of $\\rho_{3,4}$ and error $\\delta\\rho_{3,4}$."
   ]
  },
  {
   "cell_type": "code",
   "execution_count": 40,
   "metadata": {},
   "outputs": [],
   "source": [
    "rou34_center = np.mean(bootstrap_rou34)"
   ]
  },
  {
   "cell_type": "code",
   "execution_count": 41,
   "metadata": {},
   "outputs": [
    {
     "data": {
      "text/plain": [
       "0.0032090331021192853"
      ]
     },
     "execution_count": 41,
     "metadata": {},
     "output_type": "execute_result"
    }
   ],
   "source": [
    "sorted_bootstrap_rou34 = sorted(bootstrap_rou34)\n",
    "rou34_down = sorted_bootstrap_rou34[160]\n",
    "rou34_center - rou34_down"
   ]
  },
  {
   "cell_type": "code",
   "execution_count": 42,
   "metadata": {},
   "outputs": [
    {
     "data": {
      "text/plain": [
       "0.003163074399061938"
      ]
     },
     "execution_count": 42,
     "metadata": {},
     "output_type": "execute_result"
    }
   ],
   "source": [
    "rou34_up = sorted_bootstrap_rou34[840-1]\n",
    "rou34_up - rou34_center"
   ]
  },
  {
   "cell_type": "code",
   "execution_count": 43,
   "metadata": {},
   "outputs": [
    {
     "data": {
      "text/plain": [
       "0.0031860537505906117"
      ]
     },
     "execution_count": 43,
     "metadata": {},
     "output_type": "execute_result"
    }
   ],
   "source": [
    "(rou34_up - rou34_down) / 2"
   ]
  },
  {
   "cell_type": "code",
   "execution_count": 44,
   "metadata": {},
   "outputs": [
    {
     "data": {
      "text/latex": [
       "$\\rho_{3,4}\\pm\\delta\\rho_{3,4}=0.979\\pm0.003$"
      ],
      "text/plain": [
       "<IPython.core.display.Latex object>"
      ]
     },
     "execution_count": 44,
     "metadata": {},
     "output_type": "execute_result"
    }
   ],
   "source": [
    "Latex(r'$\\rho_{3,4}\\pm\\delta\\rho_{3,4}=%.3f\\pm%.3f$'\n",
    "      % (rou34_center, (rou34_up - rou34_down) / 2))"
   ]
  },
  {
   "cell_type": "markdown",
   "metadata": {},
   "source": [
    "Do the same statics to $\\rho_{3,5}$"
   ]
  },
  {
   "cell_type": "code",
   "execution_count": 45,
   "metadata": {},
   "outputs": [
    {
     "data": {
      "text/plain": [
       "0.9577024048830498"
      ]
     },
     "execution_count": 45,
     "metadata": {},
     "output_type": "execute_result"
    }
   ],
   "source": [
    "rou35_center = np.mean(bootstrap_rou35)\n",
    "rou35_center"
   ]
  },
  {
   "cell_type": "code",
   "execution_count": 46,
   "metadata": {},
   "outputs": [
    {
     "data": {
      "text/plain": [
       "-0.005871072732161475"
      ]
     },
     "execution_count": 46,
     "metadata": {},
     "output_type": "execute_result"
    }
   ],
   "source": [
    "sorted_bootstrap_rou35 = sorted(bootstrap_rou35)\n",
    "rou35_down = sorted_bootstrap_rou35[160]\n",
    "rou35_down - rou35_center"
   ]
  },
  {
   "cell_type": "code",
   "execution_count": 47,
   "metadata": {},
   "outputs": [
    {
     "data": {
      "text/plain": [
       "0.011716828154024195"
      ]
     },
     "execution_count": 47,
     "metadata": {},
     "output_type": "execute_result"
    }
   ],
   "source": [
    "rou35_up = sorted_bootstrap_rou35[840-1]\n",
    "rou35_up - rou35_down"
   ]
  },
  {
   "cell_type": "code",
   "execution_count": 48,
   "metadata": {},
   "outputs": [
    {
     "data": {
      "text/plain": [
       "0.005858414077012097"
      ]
     },
     "execution_count": 48,
     "metadata": {},
     "output_type": "execute_result"
    }
   ],
   "source": [
    "(rou35_up - rou35_down) / 2"
   ]
  },
  {
   "cell_type": "code",
   "execution_count": 49,
   "metadata": {},
   "outputs": [
    {
     "data": {
      "text/latex": [
       "$\\rho_{3,5}\\pm\\delta\\rho_{3,5}=0.958\\pm0.006$"
      ],
      "text/plain": [
       "<IPython.core.display.Latex object>"
      ]
     },
     "execution_count": 49,
     "metadata": {},
     "output_type": "execute_result"
    }
   ],
   "source": [
    "Latex(r'$\\rho_{3,5}\\pm\\delta\\rho_{3,5}=%.3f\\pm%.3f$'\n",
    "      % (rou35_center, (rou35_up - rou35_down) / 2))"
   ]
  }
 ],
 "metadata": {
  "kernelspec": {
   "display_name": "Python 3",
   "language": "python",
   "name": "python3"
  },
  "language_info": {
   "codemirror_mode": {
    "name": "ipython",
    "version": 3
   },
   "file_extension": ".py",
   "mimetype": "text/x-python",
   "name": "python",
   "nbconvert_exporter": "python",
   "pygments_lexer": "ipython3",
   "version": "3.6.3"
  }
 },
 "nbformat": 4,
 "nbformat_minor": 2
}
