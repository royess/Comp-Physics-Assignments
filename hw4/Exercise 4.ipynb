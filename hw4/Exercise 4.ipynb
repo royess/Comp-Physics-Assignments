{
 "cells": [
  {
   "cell_type": "markdown",
   "metadata": {},
   "source": [
    "# Exercise 4"
   ]
  },
  {
   "cell_type": "markdown",
   "metadata": {},
   "source": [
    "## 1. 4-th order Runge-Kutta method application"
   ]
  },
  {
   "cell_type": "markdown",
   "metadata": {},
   "source": [
    "### (a) Decrease parameters\n",
    "Do following variables change:\n",
    "\n",
    "\\begin{equation*}\n",
    "\\xi \\equiv \\frac{\\delta}{\\alpha} x,\\ \\eta \\equiv \\frac{\\beta}{\\alpha}y,\\ \\tau \\equiv \\alpha t.\n",
    "\\end{equation*}\n",
    "\n",
    "You get equations like:\n",
    "\\begin{cases}\n",
    "\\dot{\\xi} = \\xi - \\xi\\eta,\\\\\n",
    "\\dot{\\eta} = \\xi\\eta - \\frac{\\gamma}{\\alpha}\\eta.\n",
    "\\end{cases}\n"
   ]
  },
  {
   "cell_type": "markdown",
   "metadata": {},
   "source": [
    "### (b) Fixed solutions and their stablity\n",
    "Fixed solution is independent of $t$ or $\\tau$. So we have:\n",
    "\\begin{cases}\n",
    "\\xi - \\xi\\eta = 0,\\\\\n",
    "\\xi\\eta - \\frac{\\gamma}{\\alpha}\\eta = 0.\n",
    "\\end{cases}\n",
    "\n",
    "Solutions, the first of which trivially implies no creatures:\n",
    "\n",
    "\\begin{equation*}\n",
    "(\\xi, \\eta)_{1,2} = (0,0),\\ (\\frac{\\gamma}{\\alpha},1)\n",
    "\\end{equation*}\n",
    "\n",
    "For $(\\xi, \\eta)_{1} = (0,0)$, do a 1-st order perturbation of $(\\Delta\\xi, \\Delta\\eta)$:\n",
    "\n",
    "\\begin{cases}\n",
    "\\dot{\\xi} = \\Delta\\xi,\\\\\n",
    "\\dot{\\eta} = - \\frac{\\gamma}{\\alpha}\\Delta\\eta.\n",
    "\\end{cases}\n",
    "\n",
    "For $\\xi,\\ \\eta>0$, $\\Delta\\xi,\\ \\Delta\\eta$ should be set positive. And you see the $\\eta$ will be blocked at zero, and $\\xi$ increases exponentially. $(\\xi, \\eta)_{1} = (0,0)$ or $(x, y)_{1} = (0,0)$ is **not a stable fixed solution**.\n",
    "\n",
    "For $(\\xi, \\eta)_{2} = (\\frac{\\gamma}{\\alpha},1)$, do the same:\n",
    "\n",
    "\\begin{cases}\n",
    "\\dot{\\xi} = -\\frac{\\gamma}{\\alpha}\\Delta\\eta,\\\\\n",
    "\\dot{\\eta} = \\Delta\\xi.\n",
    "\\end{cases}\n",
    "\n",
    "And we get:\n",
    "\n",
    "\\begin{cases}\n",
    "\\ddot{\\Delta\\xi} = -\\frac{\\gamma}{\\alpha}\\Delta\\xi,\\\\\n",
    "\\ddot{\\Delta\\eta} = -\\frac{\\gamma}{\\alpha}\\Delta\\eta.\n",
    "\\end{cases}\n",
    "\n",
    "That's the differential equations for two-dimensional harmonic oscillator, so $(\\xi,\\eta)$ will revolves around the fixed solution. $(\\xi, \\eta)_{2} = (\\frac{\\gamma}{\\alpha},1)$ or $(x, y)_{2} = (\\frac{\\gamma}{\\delta},\\frac{\\alpha}{\\beta})$ is **a stable fixed solution**."
   ]
  },
  {
   "cell_type": "markdown",
   "metadata": {},
   "source": [
    "### (c) Trace and conserved quantity\n",
    "\\begin{equation*}\n",
    "\\frac{dy}{dx} = \\frac{\\delta xy-\\gamma y}{\\alpha x-\\beta xy}\n",
    "\\end{equation*}\n",
    "\n",
    "Total differential form:\n",
    "\n",
    "\\begin{equation*}\n",
    "\\frac{\\delta x-\\gamma}{x}dx - \\frac{\\alpha-\\beta y}{y} dy = 0\n",
    "\\end{equation*}\n",
    "\n",
    "Do integral to get conserved quantity of the evolution trace:\n",
    "\n",
    "\\begin{equation*}\n",
    "\\delta x - \\gamma \\ln{x} + \\beta y - \\alpha \\ln{y} = Const.\n",
    "\\end{equation*}"
   ]
  },
  {
   "cell_type": "markdown",
   "metadata": {},
   "source": [
    "### (d)  example verification "
   ]
  },
  {
   "cell_type": "code",
   "execution_count": 143,
   "metadata": {
    "ExecuteTime": {
     "end_time": "2018-12-27T07:17:08.684965Z",
     "start_time": "2018-12-27T07:17:08.680406Z"
    },
    "hide_input": true
   },
   "outputs": [],
   "source": [
    "from numpy import *\n",
    "from scipy.misc import derivative\n",
    "from matplotlib.pyplot import *"
   ]
  },
  {
   "cell_type": "markdown",
   "metadata": {},
   "source": [
    "Construct \"velocity\" in the x-y space as a function of the position."
   ]
  },
  {
   "cell_type": "code",
   "execution_count": 144,
   "metadata": {
    "ExecuteTime": {
     "end_time": "2018-12-27T07:17:08.696242Z",
     "start_time": "2018-12-27T07:17:08.689677Z"
    },
    "hide_input": false
   },
   "outputs": [],
   "source": [
    "def velocity(position,\n",
    "             alpha=2/3, beta=4/3, delta=1, gamma=1):\n",
    "    [x, y] = position\n",
    "    return array([alpha * x - beta * x * y,\n",
    "                  delta * x * y - gamma * y])"
   ]
  },
  {
   "cell_type": "markdown",
   "metadata": {},
   "source": [
    "Construct the recursion relation between neighbouring instance. Constrcut time evolution."
   ]
  },
  {
   "cell_type": "code",
   "execution_count": 145,
   "metadata": {
    "ExecuteTime": {
     "end_time": "2018-12-27T07:17:08.705971Z",
     "start_time": "2018-12-27T07:17:08.699418Z"
    },
    "code_folding": [],
    "hide_input": true
   },
   "outputs": [],
   "source": [
    "def RK4(f, t, y, h):\n",
    "    k_1 = f(t, y)\n",
    "    k_2 = f(t + h/2, y + h/2 * k_1)\n",
    "    k_3 = f(t + h/2, y + h/2 * k_2)\n",
    "    k_4 = f(t + h, y + h * k_3)\n",
    "    return (y + h/6 * (k_1 + 2 * k_2\n",
    "                       + 2 * k_3 + k_4))"
   ]
  },
  {
   "cell_type": "code",
   "execution_count": 146,
   "metadata": {
    "ExecuteTime": {
     "end_time": "2018-12-27T07:17:08.715196Z",
     "start_time": "2018-12-27T07:17:08.709366Z"
    },
    "hide_input": false
   },
   "outputs": [],
   "source": [
    "def evolution(f, initial_position, n=10000, h=1e-3):\n",
    "    positions = dict()\n",
    "    t = 0\n",
    "    position = initial_position\n",
    "    positions[0] = position\n",
    "    for i in range(n):\n",
    "        position = RK4(f, t, position, h)\n",
    "        t += h\n",
    "        positions[t] = position\n",
    "        #print('%d interation done' % i)\n",
    "    return positions"
   ]
  },
  {
   "cell_type": "markdown",
   "metadata": {},
   "source": [
    "For each given initial position, compute the time evolution to get the trace. "
   ]
  },
  {
   "cell_type": "code",
   "execution_count": 147,
   "metadata": {
    "ExecuteTime": {
     "end_time": "2018-12-27T07:17:08.722783Z",
     "start_time": "2018-12-27T07:17:08.718544Z"
    },
    "code_folding": [
     0
    ],
    "hide_input": false
   },
   "outputs": [],
   "source": [
    "initial_positions = [array([0.8, 0.8]),\n",
    "                    array([1.0, 1.0]),\n",
    "                    array([1.2, 1.2]),\n",
    "                    array([1.4, 1.4]),\n",
    "                    array([1.6, 1.6])]"
   ]
  },
  {
   "cell_type": "code",
   "execution_count": 148,
   "metadata": {
    "ExecuteTime": {
     "end_time": "2018-12-27T07:17:10.376682Z",
     "start_time": "2018-12-27T07:17:08.725818Z"
    },
    "code_folding": [],
    "hide_input": true,
    "scrolled": true
   },
   "outputs": [
    {
     "data": {
      "text/plain": [
       "<matplotlib.legend.Legend at 0x115408470>"
      ]
     },
     "execution_count": 148,
     "metadata": {},
     "output_type": "execute_result"
    },
    {
     "data": {
      "image/png": "[encoded data removed]",
      "text/plain": [
       "<matplotlib.figure.Figure at 0x115408320>"
      ]
     },
     "metadata": {},
     "output_type": "display_data"
    }
   ],
   "source": [
    "labels = []\n",
    "traces = []\n",
    "\n",
    "for initial_position in initial_positions:\n",
    "    trace = evolution(lambda t, position: velocity(position),\n",
    "          initial_position).values()\n",
    "    traces.append(trace)\n",
    "    x_values = [position[0] for position in trace]\n",
    "    y_values = [position[1] for position in trace]\n",
    "    plot(x_values, y_values)\n",
    "    labels.append(str(initial_position))\n",
    "    \n",
    "scatter([1], [1/2], color='blue')\n",
    "labels.append('fixed point')\n",
    "legend(labels)"
   ]
  },
  {
   "cell_type": "markdown",
   "metadata": {},
   "source": [
    "As it turns out, the traces are closed curves, encircling the fixed point. In other words, the point periodically revolves around the fixed point. And it is coherent with our result given by perturbation."
   ]
  },
  {
   "cell_type": "markdown",
   "metadata": {},
   "source": [
    "For further verification, we compute the conserved quantity in last subsection for each initial position offered."
   ]
  },
  {
   "cell_type": "code",
   "execution_count": 149,
   "metadata": {
    "ExecuteTime": {
     "end_time": "2018-12-27T07:17:10.384035Z",
     "start_time": "2018-12-27T07:17:10.379439Z"
    },
    "hide_input": false
   },
   "outputs": [],
   "source": [
    "def conserved_quantity(position,\n",
    "                      alpha=2/3, beta=4/3, delta=1, gamma=1):\n",
    "    [x, y] = position\n",
    "    return delta * x - gamma * log(x)\\\n",
    "        + beta * y - alpha * log(y)"
   ]
  },
  {
   "cell_type": "code",
   "execution_count": 150,
   "metadata": {
    "ExecuteTime": {
     "end_time": "2018-12-27T07:17:11.050941Z",
     "start_time": "2018-12-27T07:17:10.387482Z"
    },
    "hide_input": true,
    "scrolled": false
   },
   "outputs": [
    {
     "data": {
      "text/plain": [
       "<matplotlib.legend.Legend at 0x11540d748>"
      ]
     },
     "execution_count": 150,
     "metadata": {},
     "output_type": "execute_result"
    },
    {
     "data": {
      "image/png": "[encoded data removed]",
      "text/plain": [
       "<matplotlib.figure.Figure at 0x114065be0>"
      ]
     },
     "metadata": {},
     "output_type": "display_data"
    }
   ],
   "source": [
    "for trace in traces:\n",
    "    plot([conserved_quantity(position) for position in trace])\n",
    "    \n",
    "legend(labels)"
   ]
  },
  {
   "cell_type": "markdown",
   "metadata": {},
   "source": [
    "The conservation in time evolution is showed correctly for each initial condition."
   ]
  }
 ],
 "metadata": {
  "kernelspec": {
   "display_name": "Python 3",
   "language": "python",
   "name": "python3"
  },
  "language_info": {
   "codemirror_mode": {
    "name": "ipython",
    "version": 3
   },
   "file_extension": ".py",
   "mimetype": "text/x-python",
   "name": "python",
   "nbconvert_exporter": "python",
   "pygments_lexer": "ipython3",
   "version": "3.6.3"
  },
  "latex_envs": {
   "LaTeX_envs_menu_present": true,
   "autoclose": true,
   "autocomplete": false,
   "bibliofile": "biblio.bib",
   "cite_by": "key",
   "current_citInitial": 1,
   "eqLabelWithNumbers": true,
   "eqNumInitial": 1,
   "hotkeys": {
    "equation": "Ctrl-E",
    "itemize": "Ctrl-I"
   },
   "labels_anchors": true,
   "latex_user_defs": false,
   "report_style_numbering": false,
   "user_envs_cfg": false
  },
  "toc": {
   "base_numbering": 1,
   "nav_menu": {},
   "number_sections": false,
   "sideBar": true,
   "skip_h1_title": true,
   "title_cell": "Table of Contents",
   "title_sidebar": "Contents",
   "toc_cell": false,
   "toc_position": {},
   "toc_section_display": true,
   "toc_window_display": true
  },
  "varInspector": {
   "cols": {
    "lenName": 16,
    "lenType": 16,
    "lenVar": 40
   },
   "kernels_config": {
    "python": {
     "delete_cmd_postfix": "",
     "delete_cmd_prefix": "del ",
     "library": "var_list.py",
     "varRefreshCmd": "print(var_dic_list())"
    },
    "r": {
     "delete_cmd_postfix": ") ",
     "delete_cmd_prefix": "rm(",
     "library": "var_list.r",
     "varRefreshCmd": "cat(var_dic_list()) "
    }
   },
   "position": {
    "height": "355px",
    "left": "793.636px",
    "right": "20px",
    "top": "120px",
    "width": "350px"
   },
   "types_to_exclude": [
    "module",
    "function",
    "builtin_function_or_method",
    "instance",
    "_Feature"
   ],
   "window_display": false
  }
 },
 "nbformat": 4,
 "nbformat_minor": 2
}
